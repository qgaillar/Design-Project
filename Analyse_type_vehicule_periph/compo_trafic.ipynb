{
 "cells": [
  {
   "cell_type": "code",
   "execution_count": 21,
   "metadata": {},
   "outputs": [],
   "source": [
    "import pandas as pd\n",
    "import matplotlib.pyplot as plt\n",
    "import seaborn as sns\n",
    "import plotly.express as px\n",
    "import plotly.graph_objects as go\n",
    "from plotly.subplots import make_subplots"
   ]
  },
  {
   "cell_type": "code",
   "execution_count": 22,
   "metadata": {},
   "outputs": [
    {
     "data": {
      "text/html": [
       "<div>\n",
       "<style scoped>\n",
       "    .dataframe tbody tr th:only-of-type {\n",
       "        vertical-align: middle;\n",
       "    }\n",
       "\n",
       "    .dataframe tbody tr th {\n",
       "        vertical-align: top;\n",
       "    }\n",
       "\n",
       "    .dataframe thead th {\n",
       "        text-align: right;\n",
       "    }\n",
       "</style>\n",
       "<table border=\"1\" class=\"dataframe\">\n",
       "  <thead>\n",
       "    <tr style=\"text-align: right;\">\n",
       "      <th></th>\n",
       "      <th>année</th>\n",
       "      <th>site</th>\n",
       "      <th>tronçon</th>\n",
       "      <th>arrondissement</th>\n",
       "      <th>coordonnées</th>\n",
       "      <th>latitude</th>\n",
       "      <th>longitude</th>\n",
       "      <th>période</th>\n",
       "      <th>heure</th>\n",
       "      <th>catégories de véhicules</th>\n",
       "      <th>données</th>\n",
       "      <th>secteur</th>\n",
       "    </tr>\n",
       "  </thead>\n",
       "  <tbody>\n",
       "    <tr>\n",
       "      <th>0</th>\n",
       "      <td>2016-01-01</td>\n",
       "      <td>Porte de Saint-Cloud</td>\n",
       "      <td>en direction de la Porte d'Auteuil</td>\n",
       "      <td>BP</td>\n",
       "      <td>48.84165, 2.22163</td>\n",
       "      <td>48.84165</td>\n",
       "      <td>2.22163</td>\n",
       "      <td>MOYENNE DU 24 AU 26 NOVEMBRE 2016</td>\n",
       "      <td>08h-09h</td>\n",
       "      <td>Cars</td>\n",
       "      <td>13.000000</td>\n",
       "      <td>Boulevard Périphérique</td>\n",
       "    </tr>\n",
       "    <tr>\n",
       "      <th>1</th>\n",
       "      <td>2016-01-01</td>\n",
       "      <td>Porte de Saint-Cloud</td>\n",
       "      <td>en direction de la Porte d'Auteuil</td>\n",
       "      <td>BP</td>\n",
       "      <td>48.84165, 2.22163</td>\n",
       "      <td>48.84165</td>\n",
       "      <td>2.22163</td>\n",
       "      <td>MOYENNE DU 24 AU 26 NOVEMBRE 2016</td>\n",
       "      <td>14h-15h</td>\n",
       "      <td>Véhicules Utilitaires</td>\n",
       "      <td>786.000000</td>\n",
       "      <td>Boulevard Périphérique</td>\n",
       "    </tr>\n",
       "    <tr>\n",
       "      <th>2</th>\n",
       "      <td>2016-01-01</td>\n",
       "      <td>Porte de Saint-Cloud</td>\n",
       "      <td>en direction de la Porte de Sèvres</td>\n",
       "      <td>BP</td>\n",
       "      <td>48.84165, 2.22163</td>\n",
       "      <td>48.84165</td>\n",
       "      <td>2.22163</td>\n",
       "      <td>MOYENNE DU 24 AU 26 NOVEMBRE 2016</td>\n",
       "      <td>07h-08h</td>\n",
       "      <td>Taxis</td>\n",
       "      <td>125.666667</td>\n",
       "      <td>Boulevard Périphérique</td>\n",
       "    </tr>\n",
       "    <tr>\n",
       "      <th>3</th>\n",
       "      <td>2016-01-01</td>\n",
       "      <td>Porte de Saint-Cloud</td>\n",
       "      <td>en direction de la Porte de Sèvres</td>\n",
       "      <td>BP</td>\n",
       "      <td>48.84165, 2.22163</td>\n",
       "      <td>48.84165</td>\n",
       "      <td>2.22163</td>\n",
       "      <td>MOYENNE DU 24 AU 26 NOVEMBRE 2016</td>\n",
       "      <td>08h-09h</td>\n",
       "      <td>Cars</td>\n",
       "      <td>5.333333</td>\n",
       "      <td>Boulevard Périphérique</td>\n",
       "    </tr>\n",
       "    <tr>\n",
       "      <th>4</th>\n",
       "      <td>2016-01-01</td>\n",
       "      <td>Porte de Saint-Cloud</td>\n",
       "      <td>en direction de la Porte de Sèvres</td>\n",
       "      <td>BP</td>\n",
       "      <td>48.84165, 2.22163</td>\n",
       "      <td>48.84165</td>\n",
       "      <td>2.22163</td>\n",
       "      <td>MOYENNE DU 24 AU 26 NOVEMBRE 2016</td>\n",
       "      <td>10h-11h</td>\n",
       "      <td>Véhicules Utilitaires</td>\n",
       "      <td>960.666667</td>\n",
       "      <td>Boulevard Périphérique</td>\n",
       "    </tr>\n",
       "  </tbody>\n",
       "</table>\n",
       "</div>"
      ],
      "text/plain": [
       "        année                  site                             tronçon  \\\n",
       "0  2016-01-01  Porte de Saint-Cloud  en direction de la Porte d'Auteuil   \n",
       "1  2016-01-01  Porte de Saint-Cloud  en direction de la Porte d'Auteuil   \n",
       "2  2016-01-01  Porte de Saint-Cloud  en direction de la Porte de Sèvres   \n",
       "3  2016-01-01  Porte de Saint-Cloud  en direction de la Porte de Sèvres   \n",
       "4  2016-01-01  Porte de Saint-Cloud  en direction de la Porte de Sèvres   \n",
       "\n",
       "  arrondissement        coordonnées  latitude  longitude  \\\n",
       "0             BP  48.84165, 2.22163  48.84165    2.22163   \n",
       "1             BP  48.84165, 2.22163  48.84165    2.22163   \n",
       "2             BP  48.84165, 2.22163  48.84165    2.22163   \n",
       "3             BP  48.84165, 2.22163  48.84165    2.22163   \n",
       "4             BP  48.84165, 2.22163  48.84165    2.22163   \n",
       "\n",
       "                             période    heure catégories de véhicules  \\\n",
       "0  MOYENNE DU 24 AU 26 NOVEMBRE 2016  08h-09h                    Cars   \n",
       "1  MOYENNE DU 24 AU 26 NOVEMBRE 2016  14h-15h   Véhicules Utilitaires   \n",
       "2  MOYENNE DU 24 AU 26 NOVEMBRE 2016  07h-08h                   Taxis   \n",
       "3  MOYENNE DU 24 AU 26 NOVEMBRE 2016  08h-09h                    Cars   \n",
       "4  MOYENNE DU 24 AU 26 NOVEMBRE 2016  10h-11h   Véhicules Utilitaires   \n",
       "\n",
       "      données                 secteur  \n",
       "0   13.000000  Boulevard Périphérique  \n",
       "1  786.000000  Boulevard Périphérique  \n",
       "2  125.666667  Boulevard Périphérique  \n",
       "3    5.333333  Boulevard Périphérique  \n",
       "4  960.666667  Boulevard Périphérique  "
      ]
     },
     "execution_count": 22,
     "metadata": {},
     "output_type": "execute_result"
    }
   ],
   "source": [
    "# Charger les données\n",
    "df = pd.read_csv(\"compositions-du-trafic-2.csv\", sep=\";\")\n",
    "df.head()"
   ]
  },
  {
   "cell_type": "code",
   "execution_count": 23,
   "metadata": {},
   "outputs": [],
   "source": [
    "# Convertir les colonnes utiles\n",
    "df[\"année\"] = pd.to_datetime(df[\"année\"], errors='coerce').dt.year\n",
    "df[\"données\"] = pd.to_numeric(df[\"données\"], errors='coerce')"
   ]
  },
  {
   "cell_type": "code",
   "execution_count": 24,
   "metadata": {},
   "outputs": [],
   "source": [
    "# Trier les tranches horaires\n",
    "heure_order = sorted(df[\"heure\"].dropna().unique(), key=lambda x: int(x.split('h')[0]))\n",
    "df[\"heure\"] = pd.Categorical(df[\"heure\"], categories=heure_order, ordered=True)"
   ]
  },
  {
   "cell_type": "code",
   "execution_count": 25,
   "metadata": {},
   "outputs": [
    {
     "data": {
      "text/html": [
       "<div>\n",
       "<style scoped>\n",
       "    .dataframe tbody tr th:only-of-type {\n",
       "        vertical-align: middle;\n",
       "    }\n",
       "\n",
       "    .dataframe tbody tr th {\n",
       "        vertical-align: top;\n",
       "    }\n",
       "\n",
       "    .dataframe thead th {\n",
       "        text-align: right;\n",
       "    }\n",
       "</style>\n",
       "<table border=\"1\" class=\"dataframe\">\n",
       "  <thead>\n",
       "    <tr style=\"text-align: right;\">\n",
       "      <th></th>\n",
       "      <th>année</th>\n",
       "      <th>site</th>\n",
       "      <th>tronçon</th>\n",
       "      <th>arrondissement</th>\n",
       "      <th>coordonnées</th>\n",
       "      <th>latitude</th>\n",
       "      <th>longitude</th>\n",
       "      <th>période</th>\n",
       "      <th>heure</th>\n",
       "      <th>catégories de véhicules</th>\n",
       "      <th>données</th>\n",
       "      <th>secteur</th>\n",
       "    </tr>\n",
       "  </thead>\n",
       "  <tbody>\n",
       "    <tr>\n",
       "      <th>0</th>\n",
       "      <td>2016</td>\n",
       "      <td>Porte de Saint-Cloud</td>\n",
       "      <td>en direction de la Porte d'Auteuil</td>\n",
       "      <td>BP</td>\n",
       "      <td>48.84165, 2.22163</td>\n",
       "      <td>48.84165</td>\n",
       "      <td>2.22163</td>\n",
       "      <td>MOYENNE DU 24 AU 26 NOVEMBRE 2016</td>\n",
       "      <td>08h-09h</td>\n",
       "      <td>Cars</td>\n",
       "      <td>13.000000</td>\n",
       "      <td>Boulevard Périphérique</td>\n",
       "    </tr>\n",
       "    <tr>\n",
       "      <th>1</th>\n",
       "      <td>2016</td>\n",
       "      <td>Porte de Saint-Cloud</td>\n",
       "      <td>en direction de la Porte d'Auteuil</td>\n",
       "      <td>BP</td>\n",
       "      <td>48.84165, 2.22163</td>\n",
       "      <td>48.84165</td>\n",
       "      <td>2.22163</td>\n",
       "      <td>MOYENNE DU 24 AU 26 NOVEMBRE 2016</td>\n",
       "      <td>14h-15h</td>\n",
       "      <td>Véhicules Utilitaires</td>\n",
       "      <td>786.000000</td>\n",
       "      <td>Boulevard Périphérique</td>\n",
       "    </tr>\n",
       "    <tr>\n",
       "      <th>2</th>\n",
       "      <td>2016</td>\n",
       "      <td>Porte de Saint-Cloud</td>\n",
       "      <td>en direction de la Porte de Sèvres</td>\n",
       "      <td>BP</td>\n",
       "      <td>48.84165, 2.22163</td>\n",
       "      <td>48.84165</td>\n",
       "      <td>2.22163</td>\n",
       "      <td>MOYENNE DU 24 AU 26 NOVEMBRE 2016</td>\n",
       "      <td>07h-08h</td>\n",
       "      <td>Taxis</td>\n",
       "      <td>125.666667</td>\n",
       "      <td>Boulevard Périphérique</td>\n",
       "    </tr>\n",
       "    <tr>\n",
       "      <th>3</th>\n",
       "      <td>2016</td>\n",
       "      <td>Porte de Saint-Cloud</td>\n",
       "      <td>en direction de la Porte de Sèvres</td>\n",
       "      <td>BP</td>\n",
       "      <td>48.84165, 2.22163</td>\n",
       "      <td>48.84165</td>\n",
       "      <td>2.22163</td>\n",
       "      <td>MOYENNE DU 24 AU 26 NOVEMBRE 2016</td>\n",
       "      <td>08h-09h</td>\n",
       "      <td>Cars</td>\n",
       "      <td>5.333333</td>\n",
       "      <td>Boulevard Périphérique</td>\n",
       "    </tr>\n",
       "    <tr>\n",
       "      <th>4</th>\n",
       "      <td>2016</td>\n",
       "      <td>Porte de Saint-Cloud</td>\n",
       "      <td>en direction de la Porte de Sèvres</td>\n",
       "      <td>BP</td>\n",
       "      <td>48.84165, 2.22163</td>\n",
       "      <td>48.84165</td>\n",
       "      <td>2.22163</td>\n",
       "      <td>MOYENNE DU 24 AU 26 NOVEMBRE 2016</td>\n",
       "      <td>10h-11h</td>\n",
       "      <td>Véhicules Utilitaires</td>\n",
       "      <td>960.666667</td>\n",
       "      <td>Boulevard Périphérique</td>\n",
       "    </tr>\n",
       "    <tr>\n",
       "      <th>...</th>\n",
       "      <td>...</td>\n",
       "      <td>...</td>\n",
       "      <td>...</td>\n",
       "      <td>...</td>\n",
       "      <td>...</td>\n",
       "      <td>...</td>\n",
       "      <td>...</td>\n",
       "      <td>...</td>\n",
       "      <td>...</td>\n",
       "      <td>...</td>\n",
       "      <td>...</td>\n",
       "      <td>...</td>\n",
       "    </tr>\n",
       "    <tr>\n",
       "      <th>2459</th>\n",
       "      <td>2014</td>\n",
       "      <td>Porte de Choisy</td>\n",
       "      <td>en direction de la Porte d'Italie</td>\n",
       "      <td>BP</td>\n",
       "      <td>48.81735, 2.36685</td>\n",
       "      <td>48.81735</td>\n",
       "      <td>2.36685</td>\n",
       "      <td>MOYENNE DU 25 AU 27 NOVEMBRE 2014</td>\n",
       "      <td>08h-09h</td>\n",
       "      <td>Deux roues-motorisés</td>\n",
       "      <td>1232.000000</td>\n",
       "      <td>Boulevard Périphérique</td>\n",
       "    </tr>\n",
       "    <tr>\n",
       "      <th>2460</th>\n",
       "      <td>2014</td>\n",
       "      <td>Porte de Choisy</td>\n",
       "      <td>en direction de la Porte d'Ivry</td>\n",
       "      <td>BP</td>\n",
       "      <td>48.81735, 2.36685</td>\n",
       "      <td>48.81735</td>\n",
       "      <td>2.36685</td>\n",
       "      <td>MOYENNE DU 25 AU 27 NOVEMBRE 2014</td>\n",
       "      <td>08h-09h</td>\n",
       "      <td>Deux roues-motorisés</td>\n",
       "      <td>1007.666667</td>\n",
       "      <td>Boulevard Périphérique</td>\n",
       "    </tr>\n",
       "    <tr>\n",
       "      <th>2461</th>\n",
       "      <td>2014</td>\n",
       "      <td>Porte de Choisy</td>\n",
       "      <td>en direction de la Porte d'Ivry</td>\n",
       "      <td>BP</td>\n",
       "      <td>48.81735, 2.36685</td>\n",
       "      <td>48.81735</td>\n",
       "      <td>2.36685</td>\n",
       "      <td>MOYENNE DU 25 AU 27 NOVEMBRE 2014</td>\n",
       "      <td>10h-11h</td>\n",
       "      <td>Cars</td>\n",
       "      <td>19.666667</td>\n",
       "      <td>Boulevard Périphérique</td>\n",
       "    </tr>\n",
       "    <tr>\n",
       "      <th>2462</th>\n",
       "      <td>2014</td>\n",
       "      <td>Porte de Choisy</td>\n",
       "      <td>en direction de la Porte d'Ivry</td>\n",
       "      <td>BP</td>\n",
       "      <td>48.81735, 2.36685</td>\n",
       "      <td>48.81735</td>\n",
       "      <td>2.36685</td>\n",
       "      <td>MOYENNE DU 25 AU 27 NOVEMBRE 2014</td>\n",
       "      <td>13h-14h</td>\n",
       "      <td>Véhicules Utilitaires</td>\n",
       "      <td>1286.333333</td>\n",
       "      <td>Boulevard Périphérique</td>\n",
       "    </tr>\n",
       "    <tr>\n",
       "      <th>2463</th>\n",
       "      <td>2014</td>\n",
       "      <td>Porte de Choisy</td>\n",
       "      <td>en direction de la Porte d'Ivry</td>\n",
       "      <td>BP</td>\n",
       "      <td>48.81735, 2.36685</td>\n",
       "      <td>48.81735</td>\n",
       "      <td>2.36685</td>\n",
       "      <td>MOYENNE DU 25 AU 27 NOVEMBRE 2014</td>\n",
       "      <td>14h-15h</td>\n",
       "      <td>Véhicules Utilitaires</td>\n",
       "      <td>1447.333333</td>\n",
       "      <td>Boulevard Périphérique</td>\n",
       "    </tr>\n",
       "  </tbody>\n",
       "</table>\n",
       "<p>2128 rows × 12 columns</p>\n",
       "</div>"
      ],
      "text/plain": [
       "      année                  site                             tronçon  \\\n",
       "0      2016  Porte de Saint-Cloud  en direction de la Porte d'Auteuil   \n",
       "1      2016  Porte de Saint-Cloud  en direction de la Porte d'Auteuil   \n",
       "2      2016  Porte de Saint-Cloud  en direction de la Porte de Sèvres   \n",
       "3      2016  Porte de Saint-Cloud  en direction de la Porte de Sèvres   \n",
       "4      2016  Porte de Saint-Cloud  en direction de la Porte de Sèvres   \n",
       "...     ...                   ...                                 ...   \n",
       "2459   2014       Porte de Choisy   en direction de la Porte d'Italie   \n",
       "2460   2014       Porte de Choisy     en direction de la Porte d'Ivry   \n",
       "2461   2014       Porte de Choisy     en direction de la Porte d'Ivry   \n",
       "2462   2014       Porte de Choisy     en direction de la Porte d'Ivry   \n",
       "2463   2014       Porte de Choisy     en direction de la Porte d'Ivry   \n",
       "\n",
       "     arrondissement        coordonnées  latitude  longitude  \\\n",
       "0                BP  48.84165, 2.22163  48.84165    2.22163   \n",
       "1                BP  48.84165, 2.22163  48.84165    2.22163   \n",
       "2                BP  48.84165, 2.22163  48.84165    2.22163   \n",
       "3                BP  48.84165, 2.22163  48.84165    2.22163   \n",
       "4                BP  48.84165, 2.22163  48.84165    2.22163   \n",
       "...             ...                ...       ...        ...   \n",
       "2459             BP  48.81735, 2.36685  48.81735    2.36685   \n",
       "2460             BP  48.81735, 2.36685  48.81735    2.36685   \n",
       "2461             BP  48.81735, 2.36685  48.81735    2.36685   \n",
       "2462             BP  48.81735, 2.36685  48.81735    2.36685   \n",
       "2463             BP  48.81735, 2.36685  48.81735    2.36685   \n",
       "\n",
       "                                période    heure catégories de véhicules  \\\n",
       "0     MOYENNE DU 24 AU 26 NOVEMBRE 2016  08h-09h                    Cars   \n",
       "1     MOYENNE DU 24 AU 26 NOVEMBRE 2016  14h-15h   Véhicules Utilitaires   \n",
       "2     MOYENNE DU 24 AU 26 NOVEMBRE 2016  07h-08h                   Taxis   \n",
       "3     MOYENNE DU 24 AU 26 NOVEMBRE 2016  08h-09h                    Cars   \n",
       "4     MOYENNE DU 24 AU 26 NOVEMBRE 2016  10h-11h   Véhicules Utilitaires   \n",
       "...                                 ...      ...                     ...   \n",
       "2459  MOYENNE DU 25 AU 27 NOVEMBRE 2014  08h-09h    Deux roues-motorisés   \n",
       "2460  MOYENNE DU 25 AU 27 NOVEMBRE 2014  08h-09h    Deux roues-motorisés   \n",
       "2461  MOYENNE DU 25 AU 27 NOVEMBRE 2014  10h-11h                    Cars   \n",
       "2462  MOYENNE DU 25 AU 27 NOVEMBRE 2014  13h-14h   Véhicules Utilitaires   \n",
       "2463  MOYENNE DU 25 AU 27 NOVEMBRE 2014  14h-15h   Véhicules Utilitaires   \n",
       "\n",
       "          données                 secteur  \n",
       "0       13.000000  Boulevard Périphérique  \n",
       "1      786.000000  Boulevard Périphérique  \n",
       "2      125.666667  Boulevard Périphérique  \n",
       "3        5.333333  Boulevard Périphérique  \n",
       "4      960.666667  Boulevard Périphérique  \n",
       "...           ...                     ...  \n",
       "2459  1232.000000  Boulevard Périphérique  \n",
       "2460  1007.666667  Boulevard Périphérique  \n",
       "2461    19.666667  Boulevard Périphérique  \n",
       "2462  1286.333333  Boulevard Périphérique  \n",
       "2463  1447.333333  Boulevard Périphérique  \n",
       "\n",
       "[2128 rows x 12 columns]"
      ]
     },
     "execution_count": 25,
     "metadata": {},
     "output_type": "execute_result"
    }
   ],
   "source": [
    "# Filtrer les catégories de véhicules pour exclure certains types\n",
    "exclude_categories = [\"Vélib's\", \"Vélos Personnels\", \"Trottinettes\"]\n",
    "df = df[~df[\"catégories de véhicules\"].isin(exclude_categories)]\n",
    "df"
   ]
  },
  {
   "cell_type": "code",
   "execution_count": 26,
   "metadata": {},
   "outputs": [
    {
     "data": {
      "image/png": "[encoded data removed]",
      "text/plain": [
       "<Figure size 800x500 with 1 Axes>"
      ]
     },
     "metadata": {},
     "output_type": "display_data"
    }
   ],
   "source": [
    "# 1. Évolution du trafic total par année\n",
    "plt.figure(figsize=(8, 5))\n",
    "ax = df.groupby(\"année\")[\"données\"].sum().plot(kind=\"bar\", color=\"skyblue\")\n",
    "plt.title(\"Évolution du trafic total par année\")\n",
    "plt.ylabel(\"Nombre total de véhicules\")\n",
    "plt.xlabel(\"Année\")\n",
    "\n",
    "# Ajouter les valeurs au-dessus des barres\n",
    "for p in ax.patches:\n",
    "    ax.annotate(f'{int(p.get_height())}', (p.get_x() + p.get_width() / 2, p.get_height()),\n",
    "                ha='center', va='bottom', fontsize=10, color='black')\n",
    "\n",
    "plt.show()"
   ]
  },
  {
   "cell_type": "code",
   "execution_count": 27,
   "metadata": {},
   "outputs": [
    {
     "data": {
      "image/png": "[encoded data removed]",
      "text/plain": [
       "<Figure size 1000x600 with 1 Axes>"
      ]
     },
     "metadata": {},
     "output_type": "display_data"
    }
   ],
   "source": [
    "# 2. Répartition des types de véhicules\n",
    "plt.figure(figsize=(10, 6))\n",
    "sns.boxplot(data=df, x=\"année\", y=\"données\", hue=\"catégories de véhicules\")\n",
    "plt.title(\"Répartition des types de véhicules par année\")\n",
    "plt.ylabel(\"Nombre de véhicules\")\n",
    "plt.xlabel(\"Année\")\n",
    "plt.legend(title=\"Type de véhicule\")\n",
    "plt.show()"
   ]
  },
  {
   "cell_type": "code",
   "execution_count": 28,
   "metadata": {},
   "outputs": [
    {
     "data": {
      "image/png": "[encoded data removed]",
      "text/plain": [
       "<Figure size 1200x600 with 1 Axes>"
      ]
     },
     "metadata": {},
     "output_type": "display_data"
    }
   ],
   "source": [
    "# 3.1 Trafic en fonction de l'heure\n",
    "plt.figure(figsize=(12, 6))\n",
    "sns.boxplot(data=df, x=\"heure\", y=\"données\", hue=\"année\")\n",
    "plt.xticks(rotation=45)\n",
    "plt.title(\"Trafic en fonction de l'heure\")\n",
    "plt.ylabel(\"Nombre de véhicules\")\n",
    "plt.xlabel(\"Heure\")\n",
    "plt.legend(title=\"Année\")\n",
    "plt.show()"
   ]
  },
  {
   "cell_type": "code",
   "execution_count": 29,
   "metadata": {},
   "outputs": [
    {
     "name": "stderr",
     "output_type": "stream",
     "text": [
      "/var/folders/fm/kg5b8n7n4ns6lqqnwn6zhhkr0000gn/T/ipykernel_92060/1143992499.py:2: FutureWarning:\n",
      "\n",
      "The default of observed=False is deprecated and will be changed to True in a future version of pandas. Pass observed=False to retain current behavior or observed=True to adopt the future default and silence this warning.\n",
      "\n",
      "/var/folders/fm/kg5b8n7n4ns6lqqnwn6zhhkr0000gn/T/ipykernel_92060/1143992499.py:3: FutureWarning:\n",
      "\n",
      "The default of observed=False is deprecated and will be changed to True in a future version of pandas. Pass observed=False to retain current behavior or observed=True to adopt the future default and silence this warning.\n",
      "\n"
     ]
    },
    {
     "data": {
      "application/vnd.plotly.v1+json": {
       "config": {
        "plotlyServerURL": "https://plot.ly"
       },
       "data": [
        {
         "hovertemplate": "Année=2014<br>Heure=%{x}<br>Nombre total de véhicules=%{y}<extra></extra>",
         "legendgroup": "2014",
         "line": {
          "color": "#636efa",
          "dash": "solid"
         },
         "marker": {
          "symbol": "circle"
         },
         "mode": "lines+markers",
         "name": "2014",
         "orientation": "v",
         "showlegend": true,
         "type": "scatter",
         "x": [
          "07h-08h",
          "08h-09h",
          "09h-10h",
          "10h-11h",
          "11h-12h",
          "12h-13h",
          "13h-14h",
          "14h-15h",
          "15h-16h",
          "16h-17h",
          "17h-18h",
          "18h-19h",
          "19h-20h",
          "20h-21h"
         ],
         "xaxis": "x",
         "y": [
          45420.666666666664,
          46601.333333333336,
          44477.666666666664,
          44046.666666666664,
          46192.666666666664,
          48413,
          48254.666666666664,
          51645.333333333336,
          49212.333333333336,
          47863.333333333336,
          47422.666666666664,
          47424.333333333336,
          45952,
          43401.666666666664
         ],
         "yaxis": "y"
        },
        {
         "hovertemplate": "Année=2016<br>Heure=%{x}<br>Nombre total de véhicules=%{y}<extra></extra>",
         "legendgroup": "2016",
         "line": {
          "color": "#EF553B",
          "dash": "solid"
         },
         "marker": {
          "symbol": "circle"
         },
         "mode": "lines+markers",
         "name": "2016",
         "orientation": "v",
         "showlegend": true,
         "type": "scatter",
         "x": [
          "07h-08h",
          "08h-09h",
          "09h-10h",
          "10h-11h",
          "11h-12h",
          "12h-13h",
          "13h-14h",
          "14h-15h",
          "15h-16h",
          "16h-17h",
          "17h-18h",
          "18h-19h",
          "19h-20h",
          "20h-21h"
         ],
         "xaxis": "x",
         "y": [
          40325.333333333336,
          43059.66666666667,
          43796,
          42742.666666666664,
          43978.33333333333,
          43777.666666666664,
          44053.666666666664,
          43874.666666666664,
          43558,
          43041,
          43792.333333333336,
          40892.666666666664,
          40314,
          39727.333333333336
         ],
         "yaxis": "y"
        },
        {
         "hovertemplate": "Année=2022<br>Heure=%{x}<br>Nombre total de véhicules=%{y}<extra></extra>",
         "legendgroup": "2022",
         "line": {
          "color": "#00cc96",
          "dash": "solid"
         },
         "marker": {
          "symbol": "circle"
         },
         "mode": "lines+markers",
         "name": "2022",
         "orientation": "v",
         "showlegend": true,
         "type": "scatter",
         "x": [
          "07h-08h",
          "08h-09h",
          "09h-10h",
          "10h-11h",
          "11h-12h",
          "12h-13h",
          "13h-14h",
          "14h-15h",
          "15h-16h",
          "16h-17h",
          "17h-18h",
          "18h-19h",
          "19h-20h",
          "20h-21h"
         ],
         "xaxis": "x",
         "y": [
          44393,
          47108.666666666664,
          43348,
          42056,
          44860.333333333336,
          46355.666666666664,
          44821.666666666664,
          45772,
          43639.666666666664,
          42905,
          44584.333333333336,
          42044.666666666664,
          43136.66666666667,
          43178
         ],
         "yaxis": "y"
        },
        {
         "hovertemplate": "Année=2014<br>Heure=%{x}<br>Nombre médian de véhicules=%{y}<extra></extra>",
         "legendgroup": "2014",
         "line": {
          "color": "#636efa",
          "dash": "solid"
         },
         "marker": {
          "symbol": "circle"
         },
         "mode": "lines+markers",
         "name": "2014",
         "orientation": "v",
         "showlegend": true,
         "type": "scatter",
         "x": [
          "07h-08h",
          "08h-09h",
          "09h-10h",
          "10h-11h",
          "11h-12h",
          "12h-13h",
          "13h-14h",
          "14h-15h",
          "15h-16h",
          "16h-17h",
          "17h-18h",
          "18h-19h",
          "19h-20h",
          "20h-21h"
         ],
         "xaxis": "x2",
         "y": [
          356.8333333333333,
          461.3333333333333,
          489.83333333333337,
          364,
          339.8333333333333,
          366.66666666666663,
          351,
          389,
          344.8333333333333,
          365.1666666666667,
          373,
          403.6666666666667,
          345.66666666666663,
          297.3333333333333
         ],
         "yaxis": "y2"
        },
        {
         "hovertemplate": "Année=2016<br>Heure=%{x}<br>Nombre médian de véhicules=%{y}<extra></extra>",
         "legendgroup": "2016",
         "line": {
          "color": "#EF553B",
          "dash": "solid"
         },
         "marker": {
          "symbol": "circle"
         },
         "mode": "lines+markers",
         "name": "2016",
         "orientation": "v",
         "showlegend": true,
         "type": "scatter",
         "x": [
          "07h-08h",
          "08h-09h",
          "09h-10h",
          "10h-11h",
          "11h-12h",
          "12h-13h",
          "13h-14h",
          "14h-15h",
          "15h-16h",
          "16h-17h",
          "17h-18h",
          "18h-19h",
          "19h-20h",
          "20h-21h"
         ],
         "xaxis": "x2",
         "y": [
          255.83333333333334,
          355.5,
          373.33333333333337,
          329.5,
          313.16666666666663,
          299.83333333333337,
          294.6666666666667,
          303.16666666666663,
          291,
          295.5,
          339.66666666666663,
          250,
          203.5,
          257.83333333333337
         ],
         "yaxis": "y2"
        },
        {
         "hovertemplate": "Année=2022<br>Heure=%{x}<br>Nombre médian de véhicules=%{y}<extra></extra>",
         "legendgroup": "2022",
         "line": {
          "color": "#00cc96",
          "dash": "solid"
         },
         "marker": {
          "symbol": "circle"
         },
         "mode": "lines+markers",
         "name": "2022",
         "orientation": "v",
         "showlegend": true,
         "type": "scatter",
         "x": [
          "07h-08h",
          "08h-09h",
          "09h-10h",
          "10h-11h",
          "11h-12h",
          "12h-13h",
          "13h-14h",
          "14h-15h",
          "15h-16h",
          "16h-17h",
          "17h-18h",
          "18h-19h",
          "19h-20h",
          "20h-21h"
         ],
         "xaxis": "x2",
         "y": [
          368.16666666666663,
          308.5,
          309.83333333333337,
          272.83333333333337,
          279.33333333333337,
          277.5,
          302,
          302.66666666666663,
          274.66666666666663,
          244,
          289,
          306.83333333333337,
          296.6666666666667,
          336
         ],
         "yaxis": "y2"
        }
       ],
       "layout": {
        "annotations": [
         {
          "font": {
           "size": 16
          },
          "showarrow": false,
          "text": "Somme totale des véhicules par heure",
          "x": 0.225,
          "xanchor": "center",
          "xref": "paper",
          "y": 1,
          "yanchor": "bottom",
          "yref": "paper"
         },
         {
          "font": {
           "size": 16
          },
          "showarrow": false,
          "text": "Médiane des véhicules par heure",
          "x": 0.775,
          "xanchor": "center",
          "xref": "paper",
          "y": 1,
          "yanchor": "bottom",
          "yref": "paper"
         }
        ],
        "showlegend": true,
        "template": {
         "data": {
          "bar": [
           {
            "error_x": {
             "color": "#2a3f5f"
            },
            "error_y": {
             "color": "#2a3f5f"
            },
            "marker": {
             "line": {
              "color": "#E5ECF6",
              "width": 0.5
             },
             "pattern": {
              "fillmode": "overlay",
              "size": 10,
              "solidity": 0.2
             }
            },
            "type": "bar"
           }
          ],
          "barpolar": [
           {
            "marker": {
             "line": {
              "color": "#E5ECF6",
              "width": 0.5
             },
             "pattern": {
              "fillmode": "overlay",
              "size": 10,
              "solidity": 0.2
             }
            },
            "type": "barpolar"
           }
          ],
          "carpet": [
           {
            "aaxis": {
             "endlinecolor": "#2a3f5f",
             "gridcolor": "white",
             "linecolor": "white",
             "minorgridcolor": "white",
             "startlinecolor": "#2a3f5f"
            },
            "baxis": {
             "endlinecolor": "#2a3f5f",
             "gridcolor": "white",
             "linecolor": "white",
             "minorgridcolor": "white",
             "startlinecolor": "#2a3f5f"
            },
            "type": "carpet"
           }
          ],
          "choropleth": [
           {
            "colorbar": {
             "outlinewidth": 0,
             "ticks": ""
            },
            "type": "choropleth"
           }
          ],
          "contour": [
           {
            "colorbar": {
             "outlinewidth": 0,
             "ticks": ""
            },
            "colorscale": [
             [
              0,
              "#0d0887"
             ],
             [
              0.1111111111111111,
              "#46039f"
             ],
             [
              0.2222222222222222,
              "#7201a8"
             ],
             [
              0.3333333333333333,
              "#9c179e"
             ],
             [
              0.4444444444444444,
              "#bd3786"
             ],
             [
              0.5555555555555556,
              "#d8576b"
             ],
             [
              0.6666666666666666,
              "#ed7953"
             ],
             [
              0.7777777777777778,
              "#fb9f3a"
             ],
             [
              0.8888888888888888,
              "#fdca26"
             ],
             [
              1,
              "#f0f921"
             ]
            ],
            "type": "contour"
           }
          ],
          "contourcarpet": [
           {
            "colorbar": {
             "outlinewidth": 0,
             "ticks": ""
            },
            "type": "contourcarpet"
           }
          ],
          "heatmap": [
           {
            "colorbar": {
             "outlinewidth": 0,
             "ticks": ""
            },
            "colorscale": [
             [
              0,
              "#0d0887"
             ],
             [
              0.1111111111111111,
              "#46039f"
             ],
             [
              0.2222222222222222,
              "#7201a8"
             ],
             [
              0.3333333333333333,
              "#9c179e"
             ],
             [
              0.4444444444444444,
              "#bd3786"
             ],
             [
              0.5555555555555556,
              "#d8576b"
             ],
             [
              0.6666666666666666,
              "#ed7953"
             ],
             [
              0.7777777777777778,
              "#fb9f3a"
             ],
             [
              0.8888888888888888,
              "#fdca26"
             ],
             [
              1,
              "#f0f921"
             ]
            ],
            "type": "heatmap"
           }
          ],
          "heatmapgl": [
           {
            "colorbar": {
             "outlinewidth": 0,
             "ticks": ""
            },
            "colorscale": [
             [
              0,
              "#0d0887"
             ],
             [
              0.1111111111111111,
              "#46039f"
             ],
             [
              0.2222222222222222,
              "#7201a8"
             ],
             [
              0.3333333333333333,
              "#9c179e"
             ],
             [
              0.4444444444444444,
              "#bd3786"
             ],
             [
              0.5555555555555556,
              "#d8576b"
             ],
             [
              0.6666666666666666,
              "#ed7953"
             ],
             [
              0.7777777777777778,
              "#fb9f3a"
             ],
             [
              0.8888888888888888,
              "#fdca26"
             ],
             [
              1,
              "#f0f921"
             ]
            ],
            "type": "heatmapgl"
           }
          ],
          "histogram": [
           {
            "marker": {
             "pattern": {
              "fillmode": "overlay",
              "size": 10,
              "solidity": 0.2
             }
            },
            "type": "histogram"
           }
          ],
          "histogram2d": [
           {
            "colorbar": {
             "outlinewidth": 0,
             "ticks": ""
            },
            "colorscale": [
             [
              0,
              "#0d0887"
             ],
             [
              0.1111111111111111,
              "#46039f"
             ],
             [
              0.2222222222222222,
              "#7201a8"
             ],
             [
              0.3333333333333333,
              "#9c179e"
             ],
             [
              0.4444444444444444,
              "#bd3786"
             ],
             [
              0.5555555555555556,
              "#d8576b"
             ],
             [
              0.6666666666666666,
              "#ed7953"
             ],
             [
              0.7777777777777778,
              "#fb9f3a"
             ],
             [
              0.8888888888888888,
              "#fdca26"
             ],
             [
              1,
              "#f0f921"
             ]
            ],
            "type": "histogram2d"
           }
          ],
          "histogram2dcontour": [
           {
            "colorbar": {
             "outlinewidth": 0,
             "ticks": ""
            },
            "colorscale": [
             [
              0,
              "#0d0887"
             ],
             [
              0.1111111111111111,
              "#46039f"
             ],
             [
              0.2222222222222222,
              "#7201a8"
             ],
             [
              0.3333333333333333,
              "#9c179e"
             ],
             [
              0.4444444444444444,
              "#bd3786"
             ],
             [
              0.5555555555555556,
              "#d8576b"
             ],
             [
              0.6666666666666666,
              "#ed7953"
             ],
             [
              0.7777777777777778,
              "#fb9f3a"
             ],
             [
              0.8888888888888888,
              "#fdca26"
             ],
             [
              1,
              "#f0f921"
             ]
            ],
            "type": "histogram2dcontour"
           }
          ],
          "mesh3d": [
           {
            "colorbar": {
             "outlinewidth": 0,
             "ticks": ""
            },
            "type": "mesh3d"
           }
          ],
          "parcoords": [
           {
            "line": {
             "colorbar": {
              "outlinewidth": 0,
              "ticks": ""
             }
            },
            "type": "parcoords"
           }
          ],
          "pie": [
           {
            "automargin": true,
            "type": "pie"
           }
          ],
          "scatter": [
           {
            "fillpattern": {
             "fillmode": "overlay",
             "size": 10,
             "solidity": 0.2
            },
            "type": "scatter"
           }
          ],
          "scatter3d": [
           {
            "line": {
             "colorbar": {
              "outlinewidth": 0,
              "ticks": ""
             }
            },
            "marker": {
             "colorbar": {
              "outlinewidth": 0,
              "ticks": ""
             }
            },
            "type": "scatter3d"
           }
          ],
          "scattercarpet": [
           {
            "marker": {
             "colorbar": {
              "outlinewidth": 0,
              "ticks": ""
             }
            },
            "type": "scattercarpet"
           }
          ],
          "scattergeo": [
           {
            "marker": {
             "colorbar": {
              "outlinewidth": 0,
              "ticks": ""
             }
            },
            "type": "scattergeo"
           }
          ],
          "scattergl": [
           {
            "marker": {
             "colorbar": {
              "outlinewidth": 0,
              "ticks": ""
             }
            },
            "type": "scattergl"
           }
          ],
          "scattermapbox": [
           {
            "marker": {
             "colorbar": {
              "outlinewidth": 0,
              "ticks": ""
             }
            },
            "type": "scattermapbox"
           }
          ],
          "scatterpolar": [
           {
            "marker": {
             "colorbar": {
              "outlinewidth": 0,
              "ticks": ""
             }
            },
            "type": "scatterpolar"
           }
          ],
          "scatterpolargl": [
           {
            "marker": {
             "colorbar": {
              "outlinewidth": 0,
              "ticks": ""
             }
            },
            "type": "scatterpolargl"
           }
          ],
          "scatterternary": [
           {
            "marker": {
             "colorbar": {
              "outlinewidth": 0,
              "ticks": ""
             }
            },
            "type": "scatterternary"
           }
          ],
          "surface": [
           {
            "colorbar": {
             "outlinewidth": 0,
             "ticks": ""
            },
            "colorscale": [
             [
              0,
              "#0d0887"
             ],
             [
              0.1111111111111111,
              "#46039f"
             ],
             [
              0.2222222222222222,
              "#7201a8"
             ],
             [
              0.3333333333333333,
              "#9c179e"
             ],
             [
              0.4444444444444444,
              "#bd3786"
             ],
             [
              0.5555555555555556,
              "#d8576b"
             ],
             [
              0.6666666666666666,
              "#ed7953"
             ],
             [
              0.7777777777777778,
              "#fb9f3a"
             ],
             [
              0.8888888888888888,
              "#fdca26"
             ],
             [
              1,
              "#f0f921"
             ]
            ],
            "type": "surface"
           }
          ],
          "table": [
           {
            "cells": {
             "fill": {
              "color": "#EBF0F8"
             },
             "line": {
              "color": "white"
             }
            },
            "header": {
             "fill": {
              "color": "#C8D4E3"
             },
             "line": {
              "color": "white"
             }
            },
            "type": "table"
           }
          ]
         },
         "layout": {
          "annotationdefaults": {
           "arrowcolor": "#2a3f5f",
           "arrowhead": 0,
           "arrowwidth": 1
          },
          "autotypenumbers": "strict",
          "coloraxis": {
           "colorbar": {
            "outlinewidth": 0,
            "ticks": ""
           }
          },
          "colorscale": {
           "diverging": [
            [
             0,
             "#8e0152"
            ],
            [
             0.1,
             "#c51b7d"
            ],
            [
             0.2,
             "#de77ae"
            ],
            [
             0.3,
             "#f1b6da"
            ],
            [
             0.4,
             "#fde0ef"
            ],
            [
             0.5,
             "#f7f7f7"
            ],
            [
             0.6,
             "#e6f5d0"
            ],
            [
             0.7,
             "#b8e186"
            ],
            [
             0.8,
             "#7fbc41"
            ],
            [
             0.9,
             "#4d9221"
            ],
            [
             1,
             "#276419"
            ]
           ],
           "sequential": [
            [
             0,
             "#0d0887"
            ],
            [
             0.1111111111111111,
             "#46039f"
            ],
            [
             0.2222222222222222,
             "#7201a8"
            ],
            [
             0.3333333333333333,
             "#9c179e"
            ],
            [
             0.4444444444444444,
             "#bd3786"
            ],
            [
             0.5555555555555556,
             "#d8576b"
            ],
            [
             0.6666666666666666,
             "#ed7953"
            ],
            [
             0.7777777777777778,
             "#fb9f3a"
            ],
            [
             0.8888888888888888,
             "#fdca26"
            ],
            [
             1,
             "#f0f921"
            ]
           ],
           "sequentialminus": [
            [
             0,
             "#0d0887"
            ],
            [
             0.1111111111111111,
             "#46039f"
            ],
            [
             0.2222222222222222,
             "#7201a8"
            ],
            [
             0.3333333333333333,
             "#9c179e"
            ],
            [
             0.4444444444444444,
             "#bd3786"
            ],
            [
             0.5555555555555556,
             "#d8576b"
            ],
            [
             0.6666666666666666,
             "#ed7953"
            ],
            [
             0.7777777777777778,
             "#fb9f3a"
            ],
            [
             0.8888888888888888,
             "#fdca26"
            ],
            [
             1,
             "#f0f921"
            ]
           ]
          },
          "colorway": [
           "#636efa",
           "#EF553B",
           "#00cc96",
           "#ab63fa",
           "#FFA15A",
           "#19d3f3",
           "#FF6692",
           "#B6E880",
           "#FF97FF",
           "#FECB52"
          ],
          "font": {
           "color": "#2a3f5f"
          },
          "geo": {
           "bgcolor": "white",
           "lakecolor": "white",
           "landcolor": "#E5ECF6",
           "showlakes": true,
           "showland": true,
           "subunitcolor": "white"
          },
          "hoverlabel": {
           "align": "left"
          },
          "hovermode": "closest",
          "mapbox": {
           "style": "light"
          },
          "paper_bgcolor": "white",
          "plot_bgcolor": "#E5ECF6",
          "polar": {
           "angularaxis": {
            "gridcolor": "white",
            "linecolor": "white",
            "ticks": ""
           },
           "bgcolor": "#E5ECF6",
           "radialaxis": {
            "gridcolor": "white",
            "linecolor": "white",
            "ticks": ""
           }
          },
          "scene": {
           "xaxis": {
            "backgroundcolor": "#E5ECF6",
            "gridcolor": "white",
            "gridwidth": 2,
            "linecolor": "white",
            "showbackground": true,
            "ticks": "",
            "zerolinecolor": "white"
           },
           "yaxis": {
            "backgroundcolor": "#E5ECF6",
            "gridcolor": "white",
            "gridwidth": 2,
            "linecolor": "white",
            "showbackground": true,
            "ticks": "",
            "zerolinecolor": "white"
           },
           "zaxis": {
            "backgroundcolor": "#E5ECF6",
            "gridcolor": "white",
            "gridwidth": 2,
            "linecolor": "white",
            "showbackground": true,
            "ticks": "",
            "zerolinecolor": "white"
           }
          },
          "shapedefaults": {
           "line": {
            "color": "#2a3f5f"
           }
          },
          "ternary": {
           "aaxis": {
            "gridcolor": "white",
            "linecolor": "white",
            "ticks": ""
           },
           "baxis": {
            "gridcolor": "white",
            "linecolor": "white",
            "ticks": ""
           },
           "bgcolor": "#E5ECF6",
           "caxis": {
            "gridcolor": "white",
            "linecolor": "white",
            "ticks": ""
           }
          },
          "title": {
           "x": 0.05
          },
          "xaxis": {
           "automargin": true,
           "gridcolor": "white",
           "linecolor": "white",
           "ticks": "",
           "title": {
            "standoff": 15
           },
           "zerolinecolor": "white",
           "zerolinewidth": 2
          },
          "yaxis": {
           "automargin": true,
           "gridcolor": "white",
           "linecolor": "white",
           "ticks": "",
           "title": {
            "standoff": 15
           },
           "zerolinecolor": "white",
           "zerolinewidth": 2
          }
         }
        },
        "title": {
         "text": "Comparaison du trafic par tranche horaire"
        },
        "xaxis": {
         "anchor": "y",
         "domain": [
          0,
          0.45
         ]
        },
        "xaxis2": {
         "anchor": "y2",
         "domain": [
          0.55,
          1
         ]
        },
        "yaxis": {
         "anchor": "x",
         "domain": [
          0,
          1
         ]
        },
        "yaxis2": {
         "anchor": "x2",
         "domain": [
          0,
          1
         ]
        }
       }
      }
     },
     "metadata": {},
     "output_type": "display_data"
    }
   ],
   "source": [
    "# 3.2 Trafic en fonction de l'heure : Comparaison Somme vs Médiane (Plotly)\n",
    "df_hourly_sum = df.groupby([\"heure\", \"année\"])[\"données\"].sum().reset_index()\n",
    "df_hourly_median = df.groupby([\"heure\", \"année\"])[\"données\"].median().reset_index()\n",
    "\n",
    "fig = make_subplots(rows=1, cols=2, subplot_titles=(\"Somme totale des véhicules par heure\", \"Médiane des véhicules par heure\"))\n",
    "\n",
    "# Graphique pour la somme\n",
    "total_fig = px.line(df_hourly_sum, x=\"heure\", y=\"données\", color=\"année\", markers=True,\n",
    "                    labels={\"données\": \"Nombre total de véhicules\", \"heure\": \"Heure\", \"année\": \"Année\"})\n",
    "for trace in total_fig.data:\n",
    "    fig.add_trace(trace, row=1, col=1)\n",
    "\n",
    "# Graphique pour la médiane\n",
    "median_fig = px.line(df_hourly_median, x=\"heure\", y=\"données\", color=\"année\", markers=True,\n",
    "                      labels={\"données\": \"Nombre médian de véhicules\", \"heure\": \"Heure\", \"année\": \"Année\"})\n",
    "for trace in median_fig.data:\n",
    "    fig.add_trace(trace, row=1, col=2)\n",
    "\n",
    "fig.update_layout(title_text=\"Comparaison du trafic par tranche horaire\", showlegend=True)\n",
    "fig.show()"
   ]
  },
  {
   "cell_type": "code",
   "execution_count": 41,
   "metadata": {},
   "outputs": [
    {
     "name": "stderr",
     "output_type": "stream",
     "text": [
      "/var/folders/fm/kg5b8n7n4ns6lqqnwn6zhhkr0000gn/T/ipykernel_92060/2144851376.py:2: FutureWarning:\n",
      "\n",
      "The default of observed=False is deprecated and will be changed to True in a future version of pandas. Pass observed=False to retain current behavior or observed=True to adopt the future default and silence this warning.\n",
      "\n",
      "/var/folders/fm/kg5b8n7n4ns6lqqnwn6zhhkr0000gn/T/ipykernel_92060/2144851376.py:3: FutureWarning:\n",
      "\n",
      "The default of observed=False is deprecated and will be changed to True in a future version of pandas. Pass observed=False to retain current behavior or observed=True to adopt the future default and silence this warning.\n",
      "\n"
     ]
    },
    {
     "data": {
      "application/vnd.plotly.v1+json": {
       "config": {
        "plotlyServerURL": "https://plot.ly"
       },
       "data": [
        {
         "hovertemplate": "Année=2014<br>Heure=%{x}<br>Nombre total de véhicules=%{y}<extra></extra>",
         "legendgroup": "2014",
         "line": {
          "color": "#636efa",
          "dash": "solid"
         },
         "marker": {
          "symbol": "circle"
         },
         "mode": "lines+markers",
         "name": "2014",
         "orientation": "v",
         "showlegend": true,
         "type": "scatter",
         "x": [
          "07h-08h",
          "08h-09h",
          "09h-10h",
          "10h-11h",
          "11h-12h",
          "12h-13h",
          "13h-14h",
          "14h-15h",
          "15h-16h",
          "16h-17h",
          "17h-18h",
          "18h-19h",
          "19h-20h",
          "20h-21h"
         ],
         "xaxis": "x",
         "y": [
          45420.666666666664,
          46601.333333333336,
          44477.666666666664,
          44046.666666666664,
          46192.666666666664,
          48413,
          48254.666666666664,
          51645.333333333336,
          49212.333333333336,
          47863.333333333336,
          47422.666666666664,
          47424.333333333336,
          45952,
          43401.666666666664
         ],
         "yaxis": "y"
        },
        {
         "hovertemplate": "Année=2016<br>Heure=%{x}<br>Nombre total de véhicules=%{y}<extra></extra>",
         "legendgroup": "2016",
         "line": {
          "color": "#EF553B",
          "dash": "solid"
         },
         "marker": {
          "symbol": "circle"
         },
         "mode": "lines+markers",
         "name": "2016",
         "orientation": "v",
         "showlegend": true,
         "type": "scatter",
         "x": [
          "07h-08h",
          "08h-09h",
          "09h-10h",
          "10h-11h",
          "11h-12h",
          "12h-13h",
          "13h-14h",
          "14h-15h",
          "15h-16h",
          "16h-17h",
          "17h-18h",
          "18h-19h",
          "19h-20h",
          "20h-21h"
         ],
         "xaxis": "x",
         "y": [
          40325.333333333336,
          43059.66666666667,
          43796,
          42742.666666666664,
          43978.33333333333,
          43777.666666666664,
          44053.666666666664,
          43874.666666666664,
          43558,
          43041,
          43792.333333333336,
          40892.666666666664,
          40314,
          39727.333333333336
         ],
         "yaxis": "y"
        },
        {
         "hovertemplate": "Année=2022<br>Heure=%{x}<br>Nombre total de véhicules=%{y}<extra></extra>",
         "legendgroup": "2022",
         "line": {
          "color": "#00cc96",
          "dash": "solid"
         },
         "marker": {
          "symbol": "circle"
         },
         "mode": "lines+markers",
         "name": "2022",
         "orientation": "v",
         "showlegend": true,
         "type": "scatter",
         "x": [
          "07h-08h",
          "08h-09h",
          "09h-10h",
          "10h-11h",
          "11h-12h",
          "12h-13h",
          "13h-14h",
          "14h-15h",
          "15h-16h",
          "16h-17h",
          "17h-18h",
          "18h-19h",
          "19h-20h",
          "20h-21h"
         ],
         "xaxis": "x",
         "y": [
          44393,
          47108.666666666664,
          43348,
          42056,
          44860.333333333336,
          46355.666666666664,
          44821.666666666664,
          45772,
          43639.666666666664,
          42905,
          44584.333333333336,
          42044.666666666664,
          43136.66666666667,
          43178
         ],
         "yaxis": "y"
        },
        {
         "hovertemplate": "Année=2014<br>Heure=%{x}<br>Nombre médian de véhicules=%{y}<extra></extra>",
         "legendgroup": "2014",
         "line": {
          "color": "#636efa",
          "dash": "solid"
         },
         "marker": {
          "symbol": "circle"
         },
         "mode": "lines+markers",
         "name": "2014",
         "orientation": "v",
         "showlegend": true,
         "type": "scatter",
         "x": [
          "07h-08h",
          "08h-09h",
          "09h-10h",
          "10h-11h",
          "11h-12h",
          "12h-13h",
          "13h-14h",
          "14h-15h",
          "15h-16h",
          "16h-17h",
          "17h-18h",
          "18h-19h",
          "19h-20h",
          "20h-21h"
         ],
         "xaxis": "x2",
         "y": [
          356.8333333333333,
          461.3333333333333,
          489.83333333333337,
          364,
          339.8333333333333,
          366.66666666666663,
          351,
          389,
          344.8333333333333,
          365.1666666666667,
          373,
          403.6666666666667,
          345.66666666666663,
          297.3333333333333
         ],
         "yaxis": "y2"
        },
        {
         "hovertemplate": "Année=2016<br>Heure=%{x}<br>Nombre médian de véhicules=%{y}<extra></extra>",
         "legendgroup": "2016",
         "line": {
          "color": "#EF553B",
          "dash": "solid"
         },
         "marker": {
          "symbol": "circle"
         },
         "mode": "lines+markers",
         "name": "2016",
         "orientation": "v",
         "showlegend": true,
         "type": "scatter",
         "x": [
          "07h-08h",
          "08h-09h",
          "09h-10h",
          "10h-11h",
          "11h-12h",
          "12h-13h",
          "13h-14h",
          "14h-15h",
          "15h-16h",
          "16h-17h",
          "17h-18h",
          "18h-19h",
          "19h-20h",
          "20h-21h"
         ],
         "xaxis": "x2",
         "y": [
          255.83333333333334,
          355.5,
          373.33333333333337,
          329.5,
          313.16666666666663,
          299.83333333333337,
          294.6666666666667,
          303.16666666666663,
          291,
          295.5,
          339.66666666666663,
          250,
          203.5,
          257.83333333333337
         ],
         "yaxis": "y2"
        },
        {
         "hovertemplate": "Année=2022<br>Heure=%{x}<br>Nombre médian de véhicules=%{y}<extra></extra>",
         "legendgroup": "2022",
         "line": {
          "color": "#00cc96",
          "dash": "solid"
         },
         "marker": {
          "symbol": "circle"
         },
         "mode": "lines+markers",
         "name": "2022",
         "orientation": "v",
         "showlegend": true,
         "type": "scatter",
         "x": [
          "07h-08h",
          "08h-09h",
          "09h-10h",
          "10h-11h",
          "11h-12h",
          "12h-13h",
          "13h-14h",
          "14h-15h",
          "15h-16h",
          "16h-17h",
          "17h-18h",
          "18h-19h",
          "19h-20h",
          "20h-21h"
         ],
         "xaxis": "x2",
         "y": [
          368.16666666666663,
          308.5,
          309.83333333333337,
          272.83333333333337,
          279.33333333333337,
          277.5,
          302,
          302.66666666666663,
          274.66666666666663,
          244,
          289,
          306.83333333333337,
          296.6666666666667,
          336
         ],
         "yaxis": "y2"
        }
       ],
       "layout": {
        "annotations": [
         {
          "font": {
           "size": 16
          },
          "showarrow": false,
          "text": "Somme totale des véhicules par heure",
          "x": 0.225,
          "xanchor": "center",
          "xref": "paper",
          "y": 1,
          "yanchor": "bottom",
          "yref": "paper"
         },
         {
          "font": {
           "size": 16
          },
          "showarrow": false,
          "text": "Médiane des véhicules par heure",
          "x": 0.775,
          "xanchor": "center",
          "xref": "paper",
          "y": 1,
          "yanchor": "bottom",
          "yref": "paper"
         }
        ],
        "shapes": [
         {
          "fillcolor": "rgba(255, 165, 0, 0.2)",
          "line": {
           "width": 0
          },
          "type": "rect",
          "x0": "07h-08h",
          "x1": "10h-11h",
          "xref": "x",
          "y0": 35000,
          "y1": 51645.333333333336,
          "yref": "y"
         },
         {
          "fillcolor": "rgba(255, 165, 0, 0.2)",
          "line": {
           "width": 0
          },
          "type": "rect",
          "x0": "16h-17h",
          "x1": "19h-20h",
          "xref": "x",
          "y0": 35000,
          "y1": 51645.333333333336,
          "yref": "y"
         },
         {
          "fillcolor": "rgba(255, 165, 0, 0.2)",
          "line": {
           "width": 0
          },
          "type": "rect",
          "x0": "07h-08h",
          "x1": "10h-11h",
          "xref": "x2",
          "y0": 190,
          "y1": 489.83333333333337,
          "yref": "y2"
         },
         {
          "fillcolor": "rgba(255, 165, 0, 0.2)",
          "line": {
           "width": 0
          },
          "type": "rect",
          "x0": "16h-17h",
          "x1": "19h-20h",
          "xref": "x2",
          "y0": 190,
          "y1": 489.83333333333337,
          "yref": "y2"
         }
        ],
        "showlegend": true,
        "template": {
         "data": {
          "bar": [
           {
            "error_x": {
             "color": "#2a3f5f"
            },
            "error_y": {
             "color": "#2a3f5f"
            },
            "marker": {
             "line": {
              "color": "#E5ECF6",
              "width": 0.5
             },
             "pattern": {
              "fillmode": "overlay",
              "size": 10,
              "solidity": 0.2
             }
            },
            "type": "bar"
           }
          ],
          "barpolar": [
           {
            "marker": {
             "line": {
              "color": "#E5ECF6",
              "width": 0.5
             },
             "pattern": {
              "fillmode": "overlay",
              "size": 10,
              "solidity": 0.2
             }
            },
            "type": "barpolar"
           }
          ],
          "carpet": [
           {
            "aaxis": {
             "endlinecolor": "#2a3f5f",
             "gridcolor": "white",
             "linecolor": "white",
             "minorgridcolor": "white",
             "startlinecolor": "#2a3f5f"
            },
            "baxis": {
             "endlinecolor": "#2a3f5f",
             "gridcolor": "white",
             "linecolor": "white",
             "minorgridcolor": "white",
             "startlinecolor": "#2a3f5f"
            },
            "type": "carpet"
           }
          ],
          "choropleth": [
           {
            "colorbar": {
             "outlinewidth": 0,
             "ticks": ""
            },
            "type": "choropleth"
           }
          ],
          "contour": [
           {
            "colorbar": {
             "outlinewidth": 0,
             "ticks": ""
            },
            "colorscale": [
             [
              0,
              "#0d0887"
             ],
             [
              0.1111111111111111,
              "#46039f"
             ],
             [
              0.2222222222222222,
              "#7201a8"
             ],
             [
              0.3333333333333333,
              "#9c179e"
             ],
             [
              0.4444444444444444,
              "#bd3786"
             ],
             [
              0.5555555555555556,
              "#d8576b"
             ],
             [
              0.6666666666666666,
              "#ed7953"
             ],
             [
              0.7777777777777778,
              "#fb9f3a"
             ],
             [
              0.8888888888888888,
              "#fdca26"
             ],
             [
              1,
              "#f0f921"
             ]
            ],
            "type": "contour"
           }
          ],
          "contourcarpet": [
           {
            "colorbar": {
             "outlinewidth": 0,
             "ticks": ""
            },
            "type": "contourcarpet"
           }
          ],
          "heatmap": [
           {
            "colorbar": {
             "outlinewidth": 0,
             "ticks": ""
            },
            "colorscale": [
             [
              0,
              "#0d0887"
             ],
             [
              0.1111111111111111,
              "#46039f"
             ],
             [
              0.2222222222222222,
              "#7201a8"
             ],
             [
              0.3333333333333333,
              "#9c179e"
             ],
             [
              0.4444444444444444,
              "#bd3786"
             ],
             [
              0.5555555555555556,
              "#d8576b"
             ],
             [
              0.6666666666666666,
              "#ed7953"
             ],
             [
              0.7777777777777778,
              "#fb9f3a"
             ],
             [
              0.8888888888888888,
              "#fdca26"
             ],
             [
              1,
              "#f0f921"
             ]
            ],
            "type": "heatmap"
           }
          ],
          "heatmapgl": [
           {
            "colorbar": {
             "outlinewidth": 0,
             "ticks": ""
            },
            "colorscale": [
             [
              0,
              "#0d0887"
             ],
             [
              0.1111111111111111,
              "#46039f"
             ],
             [
              0.2222222222222222,
              "#7201a8"
             ],
             [
              0.3333333333333333,
              "#9c179e"
             ],
             [
              0.4444444444444444,
              "#bd3786"
             ],
             [
              0.5555555555555556,
              "#d8576b"
             ],
             [
              0.6666666666666666,
              "#ed7953"
             ],
             [
              0.7777777777777778,
              "#fb9f3a"
             ],
             [
              0.8888888888888888,
              "#fdca26"
             ],
             [
              1,
              "#f0f921"
             ]
            ],
            "type": "heatmapgl"
           }
          ],
          "histogram": [
           {
            "marker": {
             "pattern": {
              "fillmode": "overlay",
              "size": 10,
              "solidity": 0.2
             }
            },
            "type": "histogram"
           }
          ],
          "histogram2d": [
           {
            "colorbar": {
             "outlinewidth": 0,
             "ticks": ""
            },
            "colorscale": [
             [
              0,
              "#0d0887"
             ],
             [
              0.1111111111111111,
              "#46039f"
             ],
             [
              0.2222222222222222,
              "#7201a8"
             ],
             [
              0.3333333333333333,
              "#9c179e"
             ],
             [
              0.4444444444444444,
              "#bd3786"
             ],
             [
              0.5555555555555556,
              "#d8576b"
             ],
             [
              0.6666666666666666,
              "#ed7953"
             ],
             [
              0.7777777777777778,
              "#fb9f3a"
             ],
             [
              0.8888888888888888,
              "#fdca26"
             ],
             [
              1,
              "#f0f921"
             ]
            ],
            "type": "histogram2d"
           }
          ],
          "histogram2dcontour": [
           {
            "colorbar": {
             "outlinewidth": 0,
             "ticks": ""
            },
            "colorscale": [
             [
              0,
              "#0d0887"
             ],
             [
              0.1111111111111111,
              "#46039f"
             ],
             [
              0.2222222222222222,
              "#7201a8"
             ],
             [
              0.3333333333333333,
              "#9c179e"
             ],
             [
              0.4444444444444444,
              "#bd3786"
             ],
             [
              0.5555555555555556,
              "#d8576b"
             ],
             [
              0.6666666666666666,
              "#ed7953"
             ],
             [
              0.7777777777777778,
              "#fb9f3a"
             ],
             [
              0.8888888888888888,
              "#fdca26"
             ],
             [
              1,
              "#f0f921"
             ]
            ],
            "type": "histogram2dcontour"
           }
          ],
          "mesh3d": [
           {
            "colorbar": {
             "outlinewidth": 0,
             "ticks": ""
            },
            "type": "mesh3d"
           }
          ],
          "parcoords": [
           {
            "line": {
             "colorbar": {
              "outlinewidth": 0,
              "ticks": ""
             }
            },
            "type": "parcoords"
           }
          ],
          "pie": [
           {
            "automargin": true,
            "type": "pie"
           }
          ],
          "scatter": [
           {
            "fillpattern": {
             "fillmode": "overlay",
             "size": 10,
             "solidity": 0.2
            },
            "type": "scatter"
           }
          ],
          "scatter3d": [
           {
            "line": {
             "colorbar": {
              "outlinewidth": 0,
              "ticks": ""
             }
            },
            "marker": {
             "colorbar": {
              "outlinewidth": 0,
              "ticks": ""
             }
            },
            "type": "scatter3d"
           }
          ],
          "scattercarpet": [
           {
            "marker": {
             "colorbar": {
              "outlinewidth": 0,
              "ticks": ""
             }
            },
            "type": "scattercarpet"
           }
          ],
          "scattergeo": [
           {
            "marker": {
             "colorbar": {
              "outlinewidth": 0,
              "ticks": ""
             }
            },
            "type": "scattergeo"
           }
          ],
          "scattergl": [
           {
            "marker": {
             "colorbar": {
              "outlinewidth": 0,
              "ticks": ""
             }
            },
            "type": "scattergl"
           }
          ],
          "scattermapbox": [
           {
            "marker": {
             "colorbar": {
              "outlinewidth": 0,
              "ticks": ""
             }
            },
            "type": "scattermapbox"
           }
          ],
          "scatterpolar": [
           {
            "marker": {
             "colorbar": {
              "outlinewidth": 0,
              "ticks": ""
             }
            },
            "type": "scatterpolar"
           }
          ],
          "scatterpolargl": [
           {
            "marker": {
             "colorbar": {
              "outlinewidth": 0,
              "ticks": ""
             }
            },
            "type": "scatterpolargl"
           }
          ],
          "scatterternary": [
           {
            "marker": {
             "colorbar": {
              "outlinewidth": 0,
              "ticks": ""
             }
            },
            "type": "scatterternary"
           }
          ],
          "surface": [
           {
            "colorbar": {
             "outlinewidth": 0,
             "ticks": ""
            },
            "colorscale": [
             [
              0,
              "#0d0887"
             ],
             [
              0.1111111111111111,
              "#46039f"
             ],
             [
              0.2222222222222222,
              "#7201a8"
             ],
             [
              0.3333333333333333,
              "#9c179e"
             ],
             [
              0.4444444444444444,
              "#bd3786"
             ],
             [
              0.5555555555555556,
              "#d8576b"
             ],
             [
              0.6666666666666666,
              "#ed7953"
             ],
             [
              0.7777777777777778,
              "#fb9f3a"
             ],
             [
              0.8888888888888888,
              "#fdca26"
             ],
             [
              1,
              "#f0f921"
             ]
            ],
            "type": "surface"
           }
          ],
          "table": [
           {
            "cells": {
             "fill": {
              "color": "#EBF0F8"
             },
             "line": {
              "color": "white"
             }
            },
            "header": {
             "fill": {
              "color": "#C8D4E3"
             },
             "line": {
              "color": "white"
             }
            },
            "type": "table"
           }
          ]
         },
         "layout": {
          "annotationdefaults": {
           "arrowcolor": "#2a3f5f",
           "arrowhead": 0,
           "arrowwidth": 1
          },
          "autotypenumbers": "strict",
          "coloraxis": {
           "colorbar": {
            "outlinewidth": 0,
            "ticks": ""
           }
          },
          "colorscale": {
           "diverging": [
            [
             0,
             "#8e0152"
            ],
            [
             0.1,
             "#c51b7d"
            ],
            [
             0.2,
             "#de77ae"
            ],
            [
             0.3,
             "#f1b6da"
            ],
            [
             0.4,
             "#fde0ef"
            ],
            [
             0.5,
             "#f7f7f7"
            ],
            [
             0.6,
             "#e6f5d0"
            ],
            [
             0.7,
             "#b8e186"
            ],
            [
             0.8,
             "#7fbc41"
            ],
            [
             0.9,
             "#4d9221"
            ],
            [
             1,
             "#276419"
            ]
           ],
           "sequential": [
            [
             0,
             "#0d0887"
            ],
            [
             0.1111111111111111,
             "#46039f"
            ],
            [
             0.2222222222222222,
             "#7201a8"
            ],
            [
             0.3333333333333333,
             "#9c179e"
            ],
            [
             0.4444444444444444,
             "#bd3786"
            ],
            [
             0.5555555555555556,
             "#d8576b"
            ],
            [
             0.6666666666666666,
             "#ed7953"
            ],
            [
             0.7777777777777778,
             "#fb9f3a"
            ],
            [
             0.8888888888888888,
             "#fdca26"
            ],
            [
             1,
             "#f0f921"
            ]
           ],
           "sequentialminus": [
            [
             0,
             "#0d0887"
            ],
            [
             0.1111111111111111,
             "#46039f"
            ],
            [
             0.2222222222222222,
             "#7201a8"
            ],
            [
             0.3333333333333333,
             "#9c179e"
            ],
            [
             0.4444444444444444,
             "#bd3786"
            ],
            [
             0.5555555555555556,
             "#d8576b"
            ],
            [
             0.6666666666666666,
             "#ed7953"
            ],
            [
             0.7777777777777778,
             "#fb9f3a"
            ],
            [
             0.8888888888888888,
             "#fdca26"
            ],
            [
             1,
             "#f0f921"
            ]
           ]
          },
          "colorway": [
           "#636efa",
           "#EF553B",
           "#00cc96",
           "#ab63fa",
           "#FFA15A",
           "#19d3f3",
           "#FF6692",
           "#B6E880",
           "#FF97FF",
           "#FECB52"
          ],
          "font": {
           "color": "#2a3f5f"
          },
          "geo": {
           "bgcolor": "white",
           "lakecolor": "white",
           "landcolor": "#E5ECF6",
           "showlakes": true,
           "showland": true,
           "subunitcolor": "white"
          },
          "hoverlabel": {
           "align": "left"
          },
          "hovermode": "closest",
          "mapbox": {
           "style": "light"
          },
          "paper_bgcolor": "white",
          "plot_bgcolor": "#E5ECF6",
          "polar": {
           "angularaxis": {
            "gridcolor": "white",
            "linecolor": "white",
            "ticks": ""
           },
           "bgcolor": "#E5ECF6",
           "radialaxis": {
            "gridcolor": "white",
            "linecolor": "white",
            "ticks": ""
           }
          },
          "scene": {
           "xaxis": {
            "backgroundcolor": "#E5ECF6",
            "gridcolor": "white",
            "gridwidth": 2,
            "linecolor": "white",
            "showbackground": true,
            "ticks": "",
            "zerolinecolor": "white"
           },
           "yaxis": {
            "backgroundcolor": "#E5ECF6",
            "gridcolor": "white",
            "gridwidth": 2,
            "linecolor": "white",
            "showbackground": true,
            "ticks": "",
            "zerolinecolor": "white"
           },
           "zaxis": {
            "backgroundcolor": "#E5ECF6",
            "gridcolor": "white",
            "gridwidth": 2,
            "linecolor": "white",
            "showbackground": true,
            "ticks": "",
            "zerolinecolor": "white"
           }
          },
          "shapedefaults": {
           "line": {
            "color": "#2a3f5f"
           }
          },
          "ternary": {
           "aaxis": {
            "gridcolor": "white",
            "linecolor": "white",
            "ticks": ""
           },
           "baxis": {
            "gridcolor": "white",
            "linecolor": "white",
            "ticks": ""
           },
           "bgcolor": "#E5ECF6",
           "caxis": {
            "gridcolor": "white",
            "linecolor": "white",
            "ticks": ""
           }
          },
          "title": {
           "x": 0.05
          },
          "xaxis": {
           "automargin": true,
           "gridcolor": "white",
           "linecolor": "white",
           "ticks": "",
           "title": {
            "standoff": 15
           },
           "zerolinecolor": "white",
           "zerolinewidth": 2
          },
          "yaxis": {
           "automargin": true,
           "gridcolor": "white",
           "linecolor": "white",
           "ticks": "",
           "title": {
            "standoff": 15
           },
           "zerolinecolor": "white",
           "zerolinewidth": 2
          }
         }
        },
        "title": {
         "text": "Comparaison du trafic par tranche horaire avec surbrillance des heures de covoiturage"
        },
        "xaxis": {
         "anchor": "y",
         "domain": [
          0,
          0.45
         ]
        },
        "xaxis2": {
         "anchor": "y2",
         "domain": [
          0.55,
          1
         ]
        },
        "yaxis": {
         "anchor": "x",
         "domain": [
          0,
          1
         ]
        },
        "yaxis2": {
         "anchor": "x2",
         "domain": [
          0,
          1
         ]
        }
       }
      }
     },
     "metadata": {},
     "output_type": "display_data"
    }
   ],
   "source": [
    "# 3.2 Trafic en fonction de l'heure : Comparaison Somme vs Médiane (Plotly) avec surbrillance des heures de covoiturage\n",
    "df_hourly_sum = df.groupby([\"heure\", \"année\"])[\"données\"].sum().reset_index()\n",
    "df_hourly_median = df.groupby([\"heure\", \"année\"])[\"données\"].median().reset_index()\n",
    "\n",
    "fig = make_subplots(rows=1, cols=2, subplot_titles=(\"Somme totale des véhicules par heure\", \"Médiane des véhicules par heure\"))\n",
    "\n",
    "# Heures de la voie de covoiturage\n",
    "heures_covoit = [\"07h-08h\", \"08h-09h\", \"09h-10h\", \"10h-11h\", \"16h-17h\", \"17h-18h\", \"18h-19h\", \"19h-20h\"]\n",
    "\n",
    "# Graphique pour la somme\n",
    "total_fig = px.line(df_hourly_sum, x=\"heure\", y=\"données\", color=\"année\", markers=True,\n",
    "                    labels={\"données\": \"Nombre total de véhicules\", \"heure\": \"Heure\", \"année\": \"Année\"})\n",
    "for trace in total_fig.data:\n",
    "    fig.add_trace(trace, row=1, col=1)\n",
    "\n",
    "# Ajout de surbrillance des heures de covoiturage\n",
    "fig.add_shape(\n",
    "    type=\"rect\", x0=\"07h-08h\", x1=\"10h-11h\", y0=35000, y1=df_hourly_sum[\"données\"].max(),\n",
    "    fillcolor=\"rgba(255, 165, 0, 0.2)\", line=dict(width=0), row=1, col=1\n",
    ")\n",
    "fig.add_shape(\n",
    "    type=\"rect\", x0=\"16h-17h\", x1=\"19h-20h\", y0=35000, y1=df_hourly_sum[\"données\"].max(),\n",
    "    fillcolor=\"rgba(255, 165, 0, 0.2)\", line=dict(width=0), row=1, col=1\n",
    ")\n",
    "\n",
    "# Graphique pour la médiane\n",
    "median_fig = px.line(df_hourly_median, x=\"heure\", y=\"données\", color=\"année\", markers=True,\n",
    "                      labels={\"données\": \"Nombre médian de véhicules\", \"heure\": \"Heure\", \"année\": \"Année\"})\n",
    "for trace in median_fig.data:\n",
    "    fig.add_trace(trace, row=1, col=2)\n",
    "\n",
    "# Ajout de surbrillance des heures de covoiturage\n",
    "fig.add_shape(\n",
    "    type=\"rect\", x0=\"07h-08h\", x1=\"10h-11h\", y0=190, y1=df_hourly_median[\"données\"].max(),\n",
    "    fillcolor=\"rgba(255, 165, 0, 0.2)\", line=dict(width=0), row=1, col=2\n",
    ")\n",
    "fig.add_shape(\n",
    "    type=\"rect\", x0=\"16h-17h\", x1=\"19h-20h\", y0=190, y1=df_hourly_median[\"données\"].max(),\n",
    "    fillcolor=\"rgba(255, 165, 0, 0.2)\", line=dict(width=0), row=1, col=2\n",
    ")\n",
    "\n",
    "fig.update_layout(title_text=\"Comparaison du trafic par tranche horaire avec surbrillance des heures de covoiturage\",\n",
    "                  showlegend=True)\n",
    "fig.show()"
   ]
  },
  {
   "cell_type": "code",
   "execution_count": 31,
   "metadata": {},
   "outputs": [
    {
     "data": {
      "image/png": "[encoded data removed]",
      "text/plain": [
       "<Figure size 1200x600 with 1 Axes>"
      ]
     },
     "metadata": {},
     "output_type": "display_data"
    }
   ],
   "source": [
    "# 4. Trafic par site et tronçon\n",
    "df_site = df.groupby([\"site\", \"année\"])[\"données\"].sum().unstack()\n",
    "df_site.plot(kind=\"bar\", figsize=(12, 6))\n",
    "plt.title(\"Trafic par site et année\")\n",
    "plt.ylabel(\"Nombre total de véhicules\")\n",
    "plt.xlabel(\"Site\")\n",
    "plt.xticks(rotation=90)\n",
    "plt.legend(title=\"Année\")\n",
    "plt.show()"
   ]
  },
  {
   "cell_type": "code",
   "execution_count": 32,
   "metadata": {},
   "outputs": [
    {
     "data": {
      "image/png": "[encoded data removed]",
      "text/plain": [
       "<Figure size 2000x500 with 4 Axes>"
      ]
     },
     "metadata": {},
     "output_type": "display_data"
    }
   ],
   "source": [
    "# 5. Diagrammes en rond du pourcentage de chaque type de véhicule par année dans une seule figure\n",
    "annees = sorted(df[\"année\"].unique())  # Tri des années dans l'ordre\n",
    "n = len(annees) + 1  # +1 pour la moyenne\n",
    "fig, axes = plt.subplots(1, n, figsize=(5*n, 5))\n",
    "\n",
    "for i, annee in enumerate(annees):\n",
    "    df_vehicules = df[df[\"année\"] == annee].groupby(\"catégories de véhicules\")[\"données\"].sum()\n",
    "    axes[i].pie(df_vehicules, labels=df_vehicules.index, autopct='%1.1f%%', startangle=140)\n",
    "    axes[i].set_title(f\"{annee}\")\n",
    "\n",
    "# 6. Diagramme en rond pour la moyenne des années\n",
    "avg_vehicules = df.groupby(\"catégories de véhicules\")[\"données\"].mean()\n",
    "axes[-1].pie(avg_vehicules, labels=avg_vehicules.index, autopct='%1.1f%%', startangle=140)\n",
    "axes[-1].set_title(\"Moyenne\")\n",
    "\n",
    "plt.tight_layout()\n",
    "plt.show()"
   ]
  },
  {
   "cell_type": "code",
   "execution_count": 33,
   "metadata": {},
   "outputs": [
    {
     "data": {
      "image/png": "[encoded data removed]",
      "text/plain": [
       "<Figure size 800x400 with 1 Axes>"
      ]
     },
     "metadata": {},
     "output_type": "display_data"
    }
   ],
   "source": [
    "# 7. Diagramme en barres du pourcentage de fréquentation par type de véhicule et année\n",
    "df_totals = df.groupby([\"année\", \"catégories de véhicules\"]) [\"données\"].sum().reset_index()\n",
    "df_totals[\"Pourcentage\"] = df_totals.groupby(\"année\")[\"données\"].transform(lambda x: 100 * x / x.sum())\n",
    "\n",
    "plt.figure(figsize=(8, 4))\n",
    "sns.barplot(data=df_totals, x=\"catégories de véhicules\", y=\"Pourcentage\", hue=\"année\")\n",
    "plt.xticks(rotation=45)\n",
    "plt.ylabel(\"Pourcentage de fréquentation\")\n",
    "plt.xlabel(\"Type de véhicule\")\n",
    "plt.title(\"Répartition du trafic par type de véhicule et année\")\n",
    "plt.legend(title=\"Année\")\n",
    "plt.show()"
   ]
  },
  {
   "cell_type": "code",
   "execution_count": 34,
   "metadata": {},
   "outputs": [
    {
     "data": {
      "text/html": [
       "<div>\n",
       "<style scoped>\n",
       "    .dataframe tbody tr th:only-of-type {\n",
       "        vertical-align: middle;\n",
       "    }\n",
       "\n",
       "    .dataframe tbody tr th {\n",
       "        vertical-align: top;\n",
       "    }\n",
       "\n",
       "    .dataframe thead th {\n",
       "        text-align: right;\n",
       "    }\n",
       "</style>\n",
       "<table border=\"1\" class=\"dataframe\">\n",
       "  <thead>\n",
       "    <tr style=\"text-align: right;\">\n",
       "      <th></th>\n",
       "      <th>année</th>\n",
       "      <th>catégories de véhicules</th>\n",
       "      <th>données</th>\n",
       "      <th>Pourcentage</th>\n",
       "    </tr>\n",
       "  </thead>\n",
       "  <tbody>\n",
       "    <tr>\n",
       "      <th>0</th>\n",
       "      <td>2014</td>\n",
       "      <td>Cars</td>\n",
       "      <td>1561.666667</td>\n",
       "      <td>0.237940</td>\n",
       "    </tr>\n",
       "    <tr>\n",
       "      <th>1</th>\n",
       "      <td>2014</td>\n",
       "      <td>Deux roues-motorisés</td>\n",
       "      <td>61348.666667</td>\n",
       "      <td>9.347253</td>\n",
       "    </tr>\n",
       "    <tr>\n",
       "      <th>2</th>\n",
       "      <td>2014</td>\n",
       "      <td>Poids lourds</td>\n",
       "      <td>24807.666667</td>\n",
       "      <td>3.779765</td>\n",
       "    </tr>\n",
       "    <tr>\n",
       "      <th>3</th>\n",
       "      <td>2014</td>\n",
       "      <td>Taxis</td>\n",
       "      <td>19245.666667</td>\n",
       "      <td>2.932323</td>\n",
       "    </tr>\n",
       "    <tr>\n",
       "      <th>4</th>\n",
       "      <td>2014</td>\n",
       "      <td>Véhicules Particuliers</td>\n",
       "      <td>431349.333333</td>\n",
       "      <td>65.721577</td>\n",
       "    </tr>\n",
       "    <tr>\n",
       "      <th>5</th>\n",
       "      <td>2014</td>\n",
       "      <td>Véhicules Utilitaires</td>\n",
       "      <td>118015.333333</td>\n",
       "      <td>17.981143</td>\n",
       "    </tr>\n",
       "    <tr>\n",
       "      <th>6</th>\n",
       "      <td>2016</td>\n",
       "      <td>Cars</td>\n",
       "      <td>1421.333333</td>\n",
       "      <td>0.238106</td>\n",
       "    </tr>\n",
       "    <tr>\n",
       "      <th>7</th>\n",
       "      <td>2016</td>\n",
       "      <td>Deux roues-motorisés</td>\n",
       "      <td>60801.000000</td>\n",
       "      <td>10.185560</td>\n",
       "    </tr>\n",
       "    <tr>\n",
       "      <th>8</th>\n",
       "      <td>2016</td>\n",
       "      <td>Poids lourds</td>\n",
       "      <td>17923.333333</td>\n",
       "      <td>3.002569</td>\n",
       "    </tr>\n",
       "    <tr>\n",
       "      <th>9</th>\n",
       "      <td>2016</td>\n",
       "      <td>Taxis</td>\n",
       "      <td>17099.333333</td>\n",
       "      <td>2.864530</td>\n",
       "    </tr>\n",
       "    <tr>\n",
       "      <th>10</th>\n",
       "      <td>2016</td>\n",
       "      <td>Véhicules Particuliers</td>\n",
       "      <td>393049.000000</td>\n",
       "      <td>65.844706</td>\n",
       "    </tr>\n",
       "    <tr>\n",
       "      <th>11</th>\n",
       "      <td>2016</td>\n",
       "      <td>Véhicules Utilitaires</td>\n",
       "      <td>106639.333333</td>\n",
       "      <td>17.864530</td>\n",
       "    </tr>\n",
       "    <tr>\n",
       "      <th>12</th>\n",
       "      <td>2022</td>\n",
       "      <td>Bus</td>\n",
       "      <td>1116.666667</td>\n",
       "      <td>0.180631</td>\n",
       "    </tr>\n",
       "    <tr>\n",
       "      <th>13</th>\n",
       "      <td>2022</td>\n",
       "      <td>Cars</td>\n",
       "      <td>767.000000</td>\n",
       "      <td>0.124069</td>\n",
       "    </tr>\n",
       "    <tr>\n",
       "      <th>14</th>\n",
       "      <td>2022</td>\n",
       "      <td>Deux roues-motorisés</td>\n",
       "      <td>114367.666667</td>\n",
       "      <td>18.499998</td>\n",
       "    </tr>\n",
       "    <tr>\n",
       "      <th>15</th>\n",
       "      <td>2022</td>\n",
       "      <td>Poids lourds</td>\n",
       "      <td>20248.666667</td>\n",
       "      <td>3.275404</td>\n",
       "    </tr>\n",
       "    <tr>\n",
       "      <th>16</th>\n",
       "      <td>2022</td>\n",
       "      <td>Taxis</td>\n",
       "      <td>30804.333333</td>\n",
       "      <td>4.982878</td>\n",
       "    </tr>\n",
       "    <tr>\n",
       "      <th>17</th>\n",
       "      <td>2022</td>\n",
       "      <td>Véhicules Particuliers</td>\n",
       "      <td>350193.666667</td>\n",
       "      <td>56.646973</td>\n",
       "    </tr>\n",
       "    <tr>\n",
       "      <th>18</th>\n",
       "      <td>2022</td>\n",
       "      <td>Véhicules Utilitaires</td>\n",
       "      <td>100705.666667</td>\n",
       "      <td>16.290047</td>\n",
       "    </tr>\n",
       "  </tbody>\n",
       "</table>\n",
       "</div>"
      ],
      "text/plain": [
       "    année catégories de véhicules        données  Pourcentage\n",
       "0    2014                    Cars    1561.666667     0.237940\n",
       "1    2014    Deux roues-motorisés   61348.666667     9.347253\n",
       "2    2014            Poids lourds   24807.666667     3.779765\n",
       "3    2014                   Taxis   19245.666667     2.932323\n",
       "4    2014  Véhicules Particuliers  431349.333333    65.721577\n",
       "5    2014   Véhicules Utilitaires  118015.333333    17.981143\n",
       "6    2016                    Cars    1421.333333     0.238106\n",
       "7    2016    Deux roues-motorisés   60801.000000    10.185560\n",
       "8    2016            Poids lourds   17923.333333     3.002569\n",
       "9    2016                   Taxis   17099.333333     2.864530\n",
       "10   2016  Véhicules Particuliers  393049.000000    65.844706\n",
       "11   2016   Véhicules Utilitaires  106639.333333    17.864530\n",
       "12   2022                     Bus    1116.666667     0.180631\n",
       "13   2022                    Cars     767.000000     0.124069\n",
       "14   2022    Deux roues-motorisés  114367.666667    18.499998\n",
       "15   2022            Poids lourds   20248.666667     3.275404\n",
       "16   2022                   Taxis   30804.333333     4.982878\n",
       "17   2022  Véhicules Particuliers  350193.666667    56.646973\n",
       "18   2022   Véhicules Utilitaires  100705.666667    16.290047"
      ]
     },
     "execution_count": 34,
     "metadata": {},
     "output_type": "execute_result"
    }
   ],
   "source": [
    "df_totals"
   ]
  },
  {
   "cell_type": "code",
   "execution_count": 42,
   "metadata": {},
   "outputs": [
    {
     "data": {
      "application/vnd.plotly.v1+json": {
       "config": {
        "plotlyServerURL": "https://plot.ly"
       },
       "data": [
        {
         "alignmentgroup": "True",
         "hovertemplate": "Catégorie=Véhicules Admissibles<br>Année=%{x}<br>Nombre de véhicules=%{y}<extra></extra>",
         "legendgroup": "Véhicules Admissibles",
         "marker": {
          "color": "#636efa",
          "pattern": {
           "shape": ""
          }
         },
         "name": "Véhicules Admissibles",
         "offsetgroup": "Véhicules Admissibles",
         "orientation": "v",
         "showlegend": true,
         "textposition": "auto",
         "type": "bar",
         "x": [
          2014,
          2016,
          2022
         ],
         "xaxis": "x",
         "y": [
          138822.66666666666,
          125160,
          133393.66666666666
         ],
         "yaxis": "y"
        },
        {
         "alignmentgroup": "True",
         "hovertemplate": "Catégorie=Véhicules Non Admissibles<br>Année=%{x}<br>Nombre de véhicules=%{y}<extra></extra>",
         "legendgroup": "Véhicules Non Admissibles",
         "marker": {
          "color": "#EF553B",
          "pattern": {
           "shape": ""
          }
         },
         "name": "Véhicules Non Admissibles",
         "offsetgroup": "Véhicules Non Admissibles",
         "orientation": "v",
         "showlegend": true,
         "textposition": "auto",
         "type": "bar",
         "x": [
          2014,
          2016,
          2022
         ],
         "xaxis": "x",
         "y": [
          517505.6666666667,
          471773.3333333333,
          484810
         ],
         "yaxis": "y"
        }
       ],
       "layout": {
        "barmode": "stack",
        "legend": {
         "title": {
          "text": "Catégorie"
         },
         "tracegroupgap": 0
        },
        "template": {
         "data": {
          "bar": [
           {
            "error_x": {
             "color": "#2a3f5f"
            },
            "error_y": {
             "color": "#2a3f5f"
            },
            "marker": {
             "line": {
              "color": "#E5ECF6",
              "width": 0.5
             },
             "pattern": {
              "fillmode": "overlay",
              "size": 10,
              "solidity": 0.2
             }
            },
            "type": "bar"
           }
          ],
          "barpolar": [
           {
            "marker": {
             "line": {
              "color": "#E5ECF6",
              "width": 0.5
             },
             "pattern": {
              "fillmode": "overlay",
              "size": 10,
              "solidity": 0.2
             }
            },
            "type": "barpolar"
           }
          ],
          "carpet": [
           {
            "aaxis": {
             "endlinecolor": "#2a3f5f",
             "gridcolor": "white",
             "linecolor": "white",
             "minorgridcolor": "white",
             "startlinecolor": "#2a3f5f"
            },
            "baxis": {
             "endlinecolor": "#2a3f5f",
             "gridcolor": "white",
             "linecolor": "white",
             "minorgridcolor": "white",
             "startlinecolor": "#2a3f5f"
            },
            "type": "carpet"
           }
          ],
          "choropleth": [
           {
            "colorbar": {
             "outlinewidth": 0,
             "ticks": ""
            },
            "type": "choropleth"
           }
          ],
          "contour": [
           {
            "colorbar": {
             "outlinewidth": 0,
             "ticks": ""
            },
            "colorscale": [
             [
              0,
              "#0d0887"
             ],
             [
              0.1111111111111111,
              "#46039f"
             ],
             [
              0.2222222222222222,
              "#7201a8"
             ],
             [
              0.3333333333333333,
              "#9c179e"
             ],
             [
              0.4444444444444444,
              "#bd3786"
             ],
             [
              0.5555555555555556,
              "#d8576b"
             ],
             [
              0.6666666666666666,
              "#ed7953"
             ],
             [
              0.7777777777777778,
              "#fb9f3a"
             ],
             [
              0.8888888888888888,
              "#fdca26"
             ],
             [
              1,
              "#f0f921"
             ]
            ],
            "type": "contour"
           }
          ],
          "contourcarpet": [
           {
            "colorbar": {
             "outlinewidth": 0,
             "ticks": ""
            },
            "type": "contourcarpet"
           }
          ],
          "heatmap": [
           {
            "colorbar": {
             "outlinewidth": 0,
             "ticks": ""
            },
            "colorscale": [
             [
              0,
              "#0d0887"
             ],
             [
              0.1111111111111111,
              "#46039f"
             ],
             [
              0.2222222222222222,
              "#7201a8"
             ],
             [
              0.3333333333333333,
              "#9c179e"
             ],
             [
              0.4444444444444444,
              "#bd3786"
             ],
             [
              0.5555555555555556,
              "#d8576b"
             ],
             [
              0.6666666666666666,
              "#ed7953"
             ],
             [
              0.7777777777777778,
              "#fb9f3a"
             ],
             [
              0.8888888888888888,
              "#fdca26"
             ],
             [
              1,
              "#f0f921"
             ]
            ],
            "type": "heatmap"
           }
          ],
          "heatmapgl": [
           {
            "colorbar": {
             "outlinewidth": 0,
             "ticks": ""
            },
            "colorscale": [
             [
              0,
              "#0d0887"
             ],
             [
              0.1111111111111111,
              "#46039f"
             ],
             [
              0.2222222222222222,
              "#7201a8"
             ],
             [
              0.3333333333333333,
              "#9c179e"
             ],
             [
              0.4444444444444444,
              "#bd3786"
             ],
             [
              0.5555555555555556,
              "#d8576b"
             ],
             [
              0.6666666666666666,
              "#ed7953"
             ],
             [
              0.7777777777777778,
              "#fb9f3a"
             ],
             [
              0.8888888888888888,
              "#fdca26"
             ],
             [
              1,
              "#f0f921"
             ]
            ],
            "type": "heatmapgl"
           }
          ],
          "histogram": [
           {
            "marker": {
             "pattern": {
              "fillmode": "overlay",
              "size": 10,
              "solidity": 0.2
             }
            },
            "type": "histogram"
           }
          ],
          "histogram2d": [
           {
            "colorbar": {
             "outlinewidth": 0,
             "ticks": ""
            },
            "colorscale": [
             [
              0,
              "#0d0887"
             ],
             [
              0.1111111111111111,
              "#46039f"
             ],
             [
              0.2222222222222222,
              "#7201a8"
             ],
             [
              0.3333333333333333,
              "#9c179e"
             ],
             [
              0.4444444444444444,
              "#bd3786"
             ],
             [
              0.5555555555555556,
              "#d8576b"
             ],
             [
              0.6666666666666666,
              "#ed7953"
             ],
             [
              0.7777777777777778,
              "#fb9f3a"
             ],
             [
              0.8888888888888888,
              "#fdca26"
             ],
             [
              1,
              "#f0f921"
             ]
            ],
            "type": "histogram2d"
           }
          ],
          "histogram2dcontour": [
           {
            "colorbar": {
             "outlinewidth": 0,
             "ticks": ""
            },
            "colorscale": [
             [
              0,
              "#0d0887"
             ],
             [
              0.1111111111111111,
              "#46039f"
             ],
             [
              0.2222222222222222,
              "#7201a8"
             ],
             [
              0.3333333333333333,
              "#9c179e"
             ],
             [
              0.4444444444444444,
              "#bd3786"
             ],
             [
              0.5555555555555556,
              "#d8576b"
             ],
             [
              0.6666666666666666,
              "#ed7953"
             ],
             [
              0.7777777777777778,
              "#fb9f3a"
             ],
             [
              0.8888888888888888,
              "#fdca26"
             ],
             [
              1,
              "#f0f921"
             ]
            ],
            "type": "histogram2dcontour"
           }
          ],
          "mesh3d": [
           {
            "colorbar": {
             "outlinewidth": 0,
             "ticks": ""
            },
            "type": "mesh3d"
           }
          ],
          "parcoords": [
           {
            "line": {
             "colorbar": {
              "outlinewidth": 0,
              "ticks": ""
             }
            },
            "type": "parcoords"
           }
          ],
          "pie": [
           {
            "automargin": true,
            "type": "pie"
           }
          ],
          "scatter": [
           {
            "fillpattern": {
             "fillmode": "overlay",
             "size": 10,
             "solidity": 0.2
            },
            "type": "scatter"
           }
          ],
          "scatter3d": [
           {
            "line": {
             "colorbar": {
              "outlinewidth": 0,
              "ticks": ""
             }
            },
            "marker": {
             "colorbar": {
              "outlinewidth": 0,
              "ticks": ""
             }
            },
            "type": "scatter3d"
           }
          ],
          "scattercarpet": [
           {
            "marker": {
             "colorbar": {
              "outlinewidth": 0,
              "ticks": ""
             }
            },
            "type": "scattercarpet"
           }
          ],
          "scattergeo": [
           {
            "marker": {
             "colorbar": {
              "outlinewidth": 0,
              "ticks": ""
             }
            },
            "type": "scattergeo"
           }
          ],
          "scattergl": [
           {
            "marker": {
             "colorbar": {
              "outlinewidth": 0,
              "ticks": ""
             }
            },
            "type": "scattergl"
           }
          ],
          "scattermapbox": [
           {
            "marker": {
             "colorbar": {
              "outlinewidth": 0,
              "ticks": ""
             }
            },
            "type": "scattermapbox"
           }
          ],
          "scatterpolar": [
           {
            "marker": {
             "colorbar": {
              "outlinewidth": 0,
              "ticks": ""
             }
            },
            "type": "scatterpolar"
           }
          ],
          "scatterpolargl": [
           {
            "marker": {
             "colorbar": {
              "outlinewidth": 0,
              "ticks": ""
             }
            },
            "type": "scatterpolargl"
           }
          ],
          "scatterternary": [
           {
            "marker": {
             "colorbar": {
              "outlinewidth": 0,
              "ticks": ""
             }
            },
            "type": "scatterternary"
           }
          ],
          "surface": [
           {
            "colorbar": {
             "outlinewidth": 0,
             "ticks": ""
            },
            "colorscale": [
             [
              0,
              "#0d0887"
             ],
             [
              0.1111111111111111,
              "#46039f"
             ],
             [
              0.2222222222222222,
              "#7201a8"
             ],
             [
              0.3333333333333333,
              "#9c179e"
             ],
             [
              0.4444444444444444,
              "#bd3786"
             ],
             [
              0.5555555555555556,
              "#d8576b"
             ],
             [
              0.6666666666666666,
              "#ed7953"
             ],
             [
              0.7777777777777778,
              "#fb9f3a"
             ],
             [
              0.8888888888888888,
              "#fdca26"
             ],
             [
              1,
              "#f0f921"
             ]
            ],
            "type": "surface"
           }
          ],
          "table": [
           {
            "cells": {
             "fill": {
              "color": "#EBF0F8"
             },
             "line": {
              "color": "white"
             }
            },
            "header": {
             "fill": {
              "color": "#C8D4E3"
             },
             "line": {
              "color": "white"
             }
            },
            "type": "table"
           }
          ]
         },
         "layout": {
          "annotationdefaults": {
           "arrowcolor": "#2a3f5f",
           "arrowhead": 0,
           "arrowwidth": 1
          },
          "autotypenumbers": "strict",
          "coloraxis": {
           "colorbar": {
            "outlinewidth": 0,
            "ticks": ""
           }
          },
          "colorscale": {
           "diverging": [
            [
             0,
             "#8e0152"
            ],
            [
             0.1,
             "#c51b7d"
            ],
            [
             0.2,
             "#de77ae"
            ],
            [
             0.3,
             "#f1b6da"
            ],
            [
             0.4,
             "#fde0ef"
            ],
            [
             0.5,
             "#f7f7f7"
            ],
            [
             0.6,
             "#e6f5d0"
            ],
            [
             0.7,
             "#b8e186"
            ],
            [
             0.8,
             "#7fbc41"
            ],
            [
             0.9,
             "#4d9221"
            ],
            [
             1,
             "#276419"
            ]
           ],
           "sequential": [
            [
             0,
             "#0d0887"
            ],
            [
             0.1111111111111111,
             "#46039f"
            ],
            [
             0.2222222222222222,
             "#7201a8"
            ],
            [
             0.3333333333333333,
             "#9c179e"
            ],
            [
             0.4444444444444444,
             "#bd3786"
            ],
            [
             0.5555555555555556,
             "#d8576b"
            ],
            [
             0.6666666666666666,
             "#ed7953"
            ],
            [
             0.7777777777777778,
             "#fb9f3a"
            ],
            [
             0.8888888888888888,
             "#fdca26"
            ],
            [
             1,
             "#f0f921"
            ]
           ],
           "sequentialminus": [
            [
             0,
             "#0d0887"
            ],
            [
             0.1111111111111111,
             "#46039f"
            ],
            [
             0.2222222222222222,
             "#7201a8"
            ],
            [
             0.3333333333333333,
             "#9c179e"
            ],
            [
             0.4444444444444444,
             "#bd3786"
            ],
            [
             0.5555555555555556,
             "#d8576b"
            ],
            [
             0.6666666666666666,
             "#ed7953"
            ],
            [
             0.7777777777777778,
             "#fb9f3a"
            ],
            [
             0.8888888888888888,
             "#fdca26"
            ],
            [
             1,
             "#f0f921"
            ]
           ]
          },
          "colorway": [
           "#636efa",
           "#EF553B",
           "#00cc96",
           "#ab63fa",
           "#FFA15A",
           "#19d3f3",
           "#FF6692",
           "#B6E880",
           "#FF97FF",
           "#FECB52"
          ],
          "font": {
           "color": "#2a3f5f"
          },
          "geo": {
           "bgcolor": "white",
           "lakecolor": "white",
           "landcolor": "#E5ECF6",
           "showlakes": true,
           "showland": true,
           "subunitcolor": "white"
          },
          "hoverlabel": {
           "align": "left"
          },
          "hovermode": "closest",
          "mapbox": {
           "style": "light"
          },
          "paper_bgcolor": "white",
          "plot_bgcolor": "#E5ECF6",
          "polar": {
           "angularaxis": {
            "gridcolor": "white",
            "linecolor": "white",
            "ticks": ""
           },
           "bgcolor": "#E5ECF6",
           "radialaxis": {
            "gridcolor": "white",
            "linecolor": "white",
            "ticks": ""
           }
          },
          "scene": {
           "xaxis": {
            "backgroundcolor": "#E5ECF6",
            "gridcolor": "white",
            "gridwidth": 2,
            "linecolor": "white",
            "showbackground": true,
            "ticks": "",
            "zerolinecolor": "white"
           },
           "yaxis": {
            "backgroundcolor": "#E5ECF6",
            "gridcolor": "white",
            "gridwidth": 2,
            "linecolor": "white",
            "showbackground": true,
            "ticks": "",
            "zerolinecolor": "white"
           },
           "zaxis": {
            "backgroundcolor": "#E5ECF6",
            "gridcolor": "white",
            "gridwidth": 2,
            "linecolor": "white",
            "showbackground": true,
            "ticks": "",
            "zerolinecolor": "white"
           }
          },
          "shapedefaults": {
           "line": {
            "color": "#2a3f5f"
           }
          },
          "ternary": {
           "aaxis": {
            "gridcolor": "white",
            "linecolor": "white",
            "ticks": ""
           },
           "baxis": {
            "gridcolor": "white",
            "linecolor": "white",
            "ticks": ""
           },
           "bgcolor": "#E5ECF6",
           "caxis": {
            "gridcolor": "white",
            "linecolor": "white",
            "ticks": ""
           }
          },
          "title": {
           "x": 0.05
          },
          "xaxis": {
           "automargin": true,
           "gridcolor": "white",
           "linecolor": "white",
           "ticks": "",
           "title": {
            "standoff": 15
           },
           "zerolinecolor": "white",
           "zerolinewidth": 2
          },
          "yaxis": {
           "automargin": true,
           "gridcolor": "white",
           "linecolor": "white",
           "ticks": "",
           "title": {
            "standoff": 15
           },
           "zerolinecolor": "white",
           "zerolinewidth": 2
          }
         }
        },
        "title": {
         "text": "Répartition des véhicules admissibles vs non admissibles sur la voie de covoiturage"
        },
        "xaxis": {
         "anchor": "y",
         "domain": [
          0,
          1
         ],
         "title": {
          "text": "Année"
         }
        },
        "yaxis": {
         "anchor": "x",
         "domain": [
          0,
          1
         ],
         "title": {
          "text": "Nombre de véhicules"
         }
        }
       }
      }
     },
     "metadata": {},
     "output_type": "display_data"
    }
   ],
   "source": [
    "# 8. Répartition des véhicules admissibles vs non admissibles sur la voie de covoiturage\n",
    "vehicules_autorises = [\"Taxis\", \"Bus\", \"Véhicules Utilitaires\", \"Cars\"]\n",
    "df_eligible = df[df[\"catégories de véhicules\"].isin(vehicules_autorises)].groupby(\"année\")[\"données\"].sum().reset_index()\n",
    "df_non_eligible = df[~df[\"catégories de véhicules\"].isin(vehicules_autorises)].groupby(\"année\")[\"données\"].sum().reset_index()\n",
    "df_eligible[\"Type\"] = \"Véhicules Admissibles\"\n",
    "df_non_eligible[\"Type\"] = \"Véhicules Non Admissibles\"\n",
    "df_final = pd.concat([df_eligible, df_non_eligible])\n",
    "\n",
    "fig_admissibles = px.bar(df_final, x=\"année\", y=\"données\", color=\"Type\", barmode=\"stack\",\n",
    "                          labels={\"données\": \"Nombre de véhicules\", \"année\": \"Année\", \"Type\": \"Catégorie\"},\n",
    "                          title=\"Répartition des véhicules admissibles vs non admissibles sur la voie de covoiturage\")\n",
    "fig_admissibles.show()"
   ]
  },
  {
   "cell_type": "code",
   "execution_count": 51,
   "metadata": {},
   "outputs": [
    {
     "data": {
      "application/vnd.plotly.v1+json": {
       "config": {
        "plotlyServerURL": "https://plot.ly"
       },
       "data": [
        {
         "alignmentgroup": "True",
         "hovertemplate": "Catégorie=Véhicules Admissibles<br>Année=%{x}<br>Pourcentage de véhicules=%{y}<extra></extra>",
         "legendgroup": "Véhicules Admissibles",
         "marker": {
          "color": "#636efa",
          "pattern": {
           "shape": ""
          }
         },
         "name": "Véhicules Admissibles",
         "offsetgroup": "Véhicules Admissibles",
         "orientation": "v",
         "showlegend": true,
         "textposition": "auto",
         "type": "bar",
         "x": [
          2014,
          2016,
          2022
         ],
         "xaxis": "x",
         "y": [
          20.913465567284668,
          20.729059638150545,
          21.453555489533922
         ],
         "yaxis": "y"
        },
        {
         "alignmentgroup": "True",
         "hovertemplate": "Catégorie=Véhicules Non Admissibles<br>Année=%{x}<br>Pourcentage de véhicules=%{y}<extra></extra>",
         "legendgroup": "Véhicules Non Admissibles",
         "marker": {
          "color": "#EF553B",
          "pattern": {
           "shape": ""
          }
         },
         "name": "Véhicules Non Admissibles",
         "offsetgroup": "Véhicules Non Admissibles",
         "orientation": "v",
         "showlegend": true,
         "textposition": "auto",
         "type": "bar",
         "x": [
          2014,
          2016,
          2022
         ],
         "xaxis": "x",
         "y": [
          79.08653443271533,
          79.27094036184945,
          78.54644451046609
         ],
         "yaxis": "y"
        }
       ],
       "layout": {
        "barmode": "stack",
        "legend": {
         "title": {
          "text": "Catégorie"
         },
         "tracegroupgap": 0
        },
        "template": {
         "data": {
          "bar": [
           {
            "error_x": {
             "color": "#2a3f5f"
            },
            "error_y": {
             "color": "#2a3f5f"
            },
            "marker": {
             "line": {
              "color": "#E5ECF6",
              "width": 0.5
             },
             "pattern": {
              "fillmode": "overlay",
              "size": 10,
              "solidity": 0.2
             }
            },
            "type": "bar"
           }
          ],
          "barpolar": [
           {
            "marker": {
             "line": {
              "color": "#E5ECF6",
              "width": 0.5
             },
             "pattern": {
              "fillmode": "overlay",
              "size": 10,
              "solidity": 0.2
             }
            },
            "type": "barpolar"
           }
          ],
          "carpet": [
           {
            "aaxis": {
             "endlinecolor": "#2a3f5f",
             "gridcolor": "white",
             "linecolor": "white",
             "minorgridcolor": "white",
             "startlinecolor": "#2a3f5f"
            },
            "baxis": {
             "endlinecolor": "#2a3f5f",
             "gridcolor": "white",
             "linecolor": "white",
             "minorgridcolor": "white",
             "startlinecolor": "#2a3f5f"
            },
            "type": "carpet"
           }
          ],
          "choropleth": [
           {
            "colorbar": {
             "outlinewidth": 0,
             "ticks": ""
            },
            "type": "choropleth"
           }
          ],
          "contour": [
           {
            "colorbar": {
             "outlinewidth": 0,
             "ticks": ""
            },
            "colorscale": [
             [
              0,
              "#0d0887"
             ],
             [
              0.1111111111111111,
              "#46039f"
             ],
             [
              0.2222222222222222,
              "#7201a8"
             ],
             [
              0.3333333333333333,
              "#9c179e"
             ],
             [
              0.4444444444444444,
              "#bd3786"
             ],
             [
              0.5555555555555556,
              "#d8576b"
             ],
             [
              0.6666666666666666,
              "#ed7953"
             ],
             [
              0.7777777777777778,
              "#fb9f3a"
             ],
             [
              0.8888888888888888,
              "#fdca26"
             ],
             [
              1,
              "#f0f921"
             ]
            ],
            "type": "contour"
           }
          ],
          "contourcarpet": [
           {
            "colorbar": {
             "outlinewidth": 0,
             "ticks": ""
            },
            "type": "contourcarpet"
           }
          ],
          "heatmap": [
           {
            "colorbar": {
             "outlinewidth": 0,
             "ticks": ""
            },
            "colorscale": [
             [
              0,
              "#0d0887"
             ],
             [
              0.1111111111111111,
              "#46039f"
             ],
             [
              0.2222222222222222,
              "#7201a8"
             ],
             [
              0.3333333333333333,
              "#9c179e"
             ],
             [
              0.4444444444444444,
              "#bd3786"
             ],
             [
              0.5555555555555556,
              "#d8576b"
             ],
             [
              0.6666666666666666,
              "#ed7953"
             ],
             [
              0.7777777777777778,
              "#fb9f3a"
             ],
             [
              0.8888888888888888,
              "#fdca26"
             ],
             [
              1,
              "#f0f921"
             ]
            ],
            "type": "heatmap"
           }
          ],
          "heatmapgl": [
           {
            "colorbar": {
             "outlinewidth": 0,
             "ticks": ""
            },
            "colorscale": [
             [
              0,
              "#0d0887"
             ],
             [
              0.1111111111111111,
              "#46039f"
             ],
             [
              0.2222222222222222,
              "#7201a8"
             ],
             [
              0.3333333333333333,
              "#9c179e"
             ],
             [
              0.4444444444444444,
              "#bd3786"
             ],
             [
              0.5555555555555556,
              "#d8576b"
             ],
             [
              0.6666666666666666,
              "#ed7953"
             ],
             [
              0.7777777777777778,
              "#fb9f3a"
             ],
             [
              0.8888888888888888,
              "#fdca26"
             ],
             [
              1,
              "#f0f921"
             ]
            ],
            "type": "heatmapgl"
           }
          ],
          "histogram": [
           {
            "marker": {
             "pattern": {
              "fillmode": "overlay",
              "size": 10,
              "solidity": 0.2
             }
            },
            "type": "histogram"
           }
          ],
          "histogram2d": [
           {
            "colorbar": {
             "outlinewidth": 0,
             "ticks": ""
            },
            "colorscale": [
             [
              0,
              "#0d0887"
             ],
             [
              0.1111111111111111,
              "#46039f"
             ],
             [
              0.2222222222222222,
              "#7201a8"
             ],
             [
              0.3333333333333333,
              "#9c179e"
             ],
             [
              0.4444444444444444,
              "#bd3786"
             ],
             [
              0.5555555555555556,
              "#d8576b"
             ],
             [
              0.6666666666666666,
              "#ed7953"
             ],
             [
              0.7777777777777778,
              "#fb9f3a"
             ],
             [
              0.8888888888888888,
              "#fdca26"
             ],
             [
              1,
              "#f0f921"
             ]
            ],
            "type": "histogram2d"
           }
          ],
          "histogram2dcontour": [
           {
            "colorbar": {
             "outlinewidth": 0,
             "ticks": ""
            },
            "colorscale": [
             [
              0,
              "#0d0887"
             ],
             [
              0.1111111111111111,
              "#46039f"
             ],
             [
              0.2222222222222222,
              "#7201a8"
             ],
             [
              0.3333333333333333,
              "#9c179e"
             ],
             [
              0.4444444444444444,
              "#bd3786"
             ],
             [
              0.5555555555555556,
              "#d8576b"
             ],
             [
              0.6666666666666666,
              "#ed7953"
             ],
             [
              0.7777777777777778,
              "#fb9f3a"
             ],
             [
              0.8888888888888888,
              "#fdca26"
             ],
             [
              1,
              "#f0f921"
             ]
            ],
            "type": "histogram2dcontour"
           }
          ],
          "mesh3d": [
           {
            "colorbar": {
             "outlinewidth": 0,
             "ticks": ""
            },
            "type": "mesh3d"
           }
          ],
          "parcoords": [
           {
            "line": {
             "colorbar": {
              "outlinewidth": 0,
              "ticks": ""
             }
            },
            "type": "parcoords"
           }
          ],
          "pie": [
           {
            "automargin": true,
            "type": "pie"
           }
          ],
          "scatter": [
           {
            "fillpattern": {
             "fillmode": "overlay",
             "size": 10,
             "solidity": 0.2
            },
            "type": "scatter"
           }
          ],
          "scatter3d": [
           {
            "line": {
             "colorbar": {
              "outlinewidth": 0,
              "ticks": ""
             }
            },
            "marker": {
             "colorbar": {
              "outlinewidth": 0,
              "ticks": ""
             }
            },
            "type": "scatter3d"
           }
          ],
          "scattercarpet": [
           {
            "marker": {
             "colorbar": {
              "outlinewidth": 0,
              "ticks": ""
             }
            },
            "type": "scattercarpet"
           }
          ],
          "scattergeo": [
           {
            "marker": {
             "colorbar": {
              "outlinewidth": 0,
              "ticks": ""
             }
            },
            "type": "scattergeo"
           }
          ],
          "scattergl": [
           {
            "marker": {
             "colorbar": {
              "outlinewidth": 0,
              "ticks": ""
             }
            },
            "type": "scattergl"
           }
          ],
          "scattermapbox": [
           {
            "marker": {
             "colorbar": {
              "outlinewidth": 0,
              "ticks": ""
             }
            },
            "type": "scattermapbox"
           }
          ],
          "scatterpolar": [
           {
            "marker": {
             "colorbar": {
              "outlinewidth": 0,
              "ticks": ""
             }
            },
            "type": "scatterpolar"
           }
          ],
          "scatterpolargl": [
           {
            "marker": {
             "colorbar": {
              "outlinewidth": 0,
              "ticks": ""
             }
            },
            "type": "scatterpolargl"
           }
          ],
          "scatterternary": [
           {
            "marker": {
             "colorbar": {
              "outlinewidth": 0,
              "ticks": ""
             }
            },
            "type": "scatterternary"
           }
          ],
          "surface": [
           {
            "colorbar": {
             "outlinewidth": 0,
             "ticks": ""
            },
            "colorscale": [
             [
              0,
              "#0d0887"
             ],
             [
              0.1111111111111111,
              "#46039f"
             ],
             [
              0.2222222222222222,
              "#7201a8"
             ],
             [
              0.3333333333333333,
              "#9c179e"
             ],
             [
              0.4444444444444444,
              "#bd3786"
             ],
             [
              0.5555555555555556,
              "#d8576b"
             ],
             [
              0.6666666666666666,
              "#ed7953"
             ],
             [
              0.7777777777777778,
              "#fb9f3a"
             ],
             [
              0.8888888888888888,
              "#fdca26"
             ],
             [
              1,
              "#f0f921"
             ]
            ],
            "type": "surface"
           }
          ],
          "table": [
           {
            "cells": {
             "fill": {
              "color": "#EBF0F8"
             },
             "line": {
              "color": "white"
             }
            },
            "header": {
             "fill": {
              "color": "#C8D4E3"
             },
             "line": {
              "color": "white"
             }
            },
            "type": "table"
           }
          ]
         },
         "layout": {
          "annotationdefaults": {
           "arrowcolor": "#2a3f5f",
           "arrowhead": 0,
           "arrowwidth": 1
          },
          "autotypenumbers": "strict",
          "coloraxis": {
           "colorbar": {
            "outlinewidth": 0,
            "ticks": ""
           }
          },
          "colorscale": {
           "diverging": [
            [
             0,
             "#8e0152"
            ],
            [
             0.1,
             "#c51b7d"
            ],
            [
             0.2,
             "#de77ae"
            ],
            [
             0.3,
             "#f1b6da"
            ],
            [
             0.4,
             "#fde0ef"
            ],
            [
             0.5,
             "#f7f7f7"
            ],
            [
             0.6,
             "#e6f5d0"
            ],
            [
             0.7,
             "#b8e186"
            ],
            [
             0.8,
             "#7fbc41"
            ],
            [
             0.9,
             "#4d9221"
            ],
            [
             1,
             "#276419"
            ]
           ],
           "sequential": [
            [
             0,
             "#0d0887"
            ],
            [
             0.1111111111111111,
             "#46039f"
            ],
            [
             0.2222222222222222,
             "#7201a8"
            ],
            [
             0.3333333333333333,
             "#9c179e"
            ],
            [
             0.4444444444444444,
             "#bd3786"
            ],
            [
             0.5555555555555556,
             "#d8576b"
            ],
            [
             0.6666666666666666,
             "#ed7953"
            ],
            [
             0.7777777777777778,
             "#fb9f3a"
            ],
            [
             0.8888888888888888,
             "#fdca26"
            ],
            [
             1,
             "#f0f921"
            ]
           ],
           "sequentialminus": [
            [
             0,
             "#0d0887"
            ],
            [
             0.1111111111111111,
             "#46039f"
            ],
            [
             0.2222222222222222,
             "#7201a8"
            ],
            [
             0.3333333333333333,
             "#9c179e"
            ],
            [
             0.4444444444444444,
             "#bd3786"
            ],
            [
             0.5555555555555556,
             "#d8576b"
            ],
            [
             0.6666666666666666,
             "#ed7953"
            ],
            [
             0.7777777777777778,
             "#fb9f3a"
            ],
            [
             0.8888888888888888,
             "#fdca26"
            ],
            [
             1,
             "#f0f921"
            ]
           ]
          },
          "colorway": [
           "#636efa",
           "#EF553B",
           "#00cc96",
           "#ab63fa",
           "#FFA15A",
           "#19d3f3",
           "#FF6692",
           "#B6E880",
           "#FF97FF",
           "#FECB52"
          ],
          "font": {
           "color": "#2a3f5f"
          },
          "geo": {
           "bgcolor": "white",
           "lakecolor": "white",
           "landcolor": "#E5ECF6",
           "showlakes": true,
           "showland": true,
           "subunitcolor": "white"
          },
          "hoverlabel": {
           "align": "left"
          },
          "hovermode": "closest",
          "mapbox": {
           "style": "light"
          },
          "paper_bgcolor": "white",
          "plot_bgcolor": "#E5ECF6",
          "polar": {
           "angularaxis": {
            "gridcolor": "white",
            "linecolor": "white",
            "ticks": ""
           },
           "bgcolor": "#E5ECF6",
           "radialaxis": {
            "gridcolor": "white",
            "linecolor": "white",
            "ticks": ""
           }
          },
          "scene": {
           "xaxis": {
            "backgroundcolor": "#E5ECF6",
            "gridcolor": "white",
            "gridwidth": 2,
            "linecolor": "white",
            "showbackground": true,
            "ticks": "",
            "zerolinecolor": "white"
           },
           "yaxis": {
            "backgroundcolor": "#E5ECF6",
            "gridcolor": "white",
            "gridwidth": 2,
            "linecolor": "white",
            "showbackground": true,
            "ticks": "",
            "zerolinecolor": "white"
           },
           "zaxis": {
            "backgroundcolor": "#E5ECF6",
            "gridcolor": "white",
            "gridwidth": 2,
            "linecolor": "white",
            "showbackground": true,
            "ticks": "",
            "zerolinecolor": "white"
           }
          },
          "shapedefaults": {
           "line": {
            "color": "#2a3f5f"
           }
          },
          "ternary": {
           "aaxis": {
            "gridcolor": "white",
            "linecolor": "white",
            "ticks": ""
           },
           "baxis": {
            "gridcolor": "white",
            "linecolor": "white",
            "ticks": ""
           },
           "bgcolor": "#E5ECF6",
           "caxis": {
            "gridcolor": "white",
            "linecolor": "white",
            "ticks": ""
           }
          },
          "title": {
           "x": 0.05
          },
          "xaxis": {
           "automargin": true,
           "gridcolor": "white",
           "linecolor": "white",
           "ticks": "",
           "title": {
            "standoff": 15
           },
           "zerolinecolor": "white",
           "zerolinewidth": 2
          },
          "yaxis": {
           "automargin": true,
           "gridcolor": "white",
           "linecolor": "white",
           "ticks": "",
           "title": {
            "standoff": 15
           },
           "zerolinecolor": "white",
           "zerolinewidth": 2
          }
         }
        },
        "title": {
         "text": "Répartition en pourcentage des véhicules admissibles vs non admissibles sur la voie de covoiturage"
        },
        "xaxis": {
         "anchor": "y",
         "domain": [
          0,
          1
         ],
         "title": {
          "text": "Année"
         },
         "type": "category"
        },
        "yaxis": {
         "anchor": "x",
         "domain": [
          0,
          1
         ],
         "title": {
          "text": "Pourcentage de véhicules"
         }
        }
       }
      }
     },
     "metadata": {},
     "output_type": "display_data"
    },
    {
     "data": {
      "text/html": [
       "<div>\n",
       "<style scoped>\n",
       "    .dataframe tbody tr th:only-of-type {\n",
       "        vertical-align: middle;\n",
       "    }\n",
       "\n",
       "    .dataframe tbody tr th {\n",
       "        vertical-align: top;\n",
       "    }\n",
       "\n",
       "    .dataframe thead th {\n",
       "        text-align: right;\n",
       "    }\n",
       "</style>\n",
       "<table border=\"1\" class=\"dataframe\">\n",
       "  <thead>\n",
       "    <tr style=\"text-align: right;\">\n",
       "      <th></th>\n",
       "      <th>année</th>\n",
       "      <th>données_eligible</th>\n",
       "      <th>données_total</th>\n",
       "      <th>Pourcentage</th>\n",
       "      <th>Type</th>\n",
       "    </tr>\n",
       "  </thead>\n",
       "  <tbody>\n",
       "    <tr>\n",
       "      <th>0</th>\n",
       "      <td>2014</td>\n",
       "      <td>137261.000000</td>\n",
       "      <td>656328.333333</td>\n",
       "      <td>20.913466</td>\n",
       "      <td>Véhicules Admissibles</td>\n",
       "    </tr>\n",
       "    <tr>\n",
       "      <th>1</th>\n",
       "      <td>2016</td>\n",
       "      <td>123738.666667</td>\n",
       "      <td>596933.333333</td>\n",
       "      <td>20.729060</td>\n",
       "      <td>Véhicules Admissibles</td>\n",
       "    </tr>\n",
       "    <tr>\n",
       "      <th>2</th>\n",
       "      <td>2022</td>\n",
       "      <td>132626.666667</td>\n",
       "      <td>618203.666667</td>\n",
       "      <td>21.453555</td>\n",
       "      <td>Véhicules Admissibles</td>\n",
       "    </tr>\n",
       "  </tbody>\n",
       "</table>\n",
       "</div>"
      ],
      "text/plain": [
       "   année  données_eligible  données_total  Pourcentage                   Type\n",
       "0   2014     137261.000000  656328.333333    20.913466  Véhicules Admissibles\n",
       "1   2016     123738.666667  596933.333333    20.729060  Véhicules Admissibles\n",
       "2   2022     132626.666667  618203.666667    21.453555  Véhicules Admissibles"
      ]
     },
     "execution_count": 51,
     "metadata": {},
     "output_type": "execute_result"
    }
   ],
   "source": [
    "# 4. Répartition des véhicules admissibles vs non admissibles sur la voie de covoiturage (en pourcentage)\n",
    "vehicules_autorises = [\"Taxis\", \"Bus\", \"Véhicules Utilitaires\", \"Autres (incluant covoiturage)\"]\n",
    "df_eligible = df[df[\"catégories de véhicules\"].isin(vehicules_autorises)].groupby(\"année\")[\"données\"].sum().reset_index()\n",
    "df_non_eligible = df[~df[\"catégories de véhicules\"].isin(vehicules_autorises)].groupby(\"année\")[\"données\"].sum().reset_index()\n",
    "\n",
    "df_total = df.groupby(\"année\")[\"données\"].sum().reset_index()\n",
    "df_eligible = df_eligible.merge(df_total, on=\"année\", suffixes=(\"_eligible\", \"_total\"))\n",
    "df_non_eligible = df_non_eligible.merge(df_total, on=\"année\", suffixes=(\"_non_eligible\", \"_total\"))\n",
    "\n",
    "df_eligible[\"Pourcentage\"] = (df_eligible[\"données_eligible\"] / df_eligible[\"données_total\"]) * 100\n",
    "df_non_eligible[\"Pourcentage\"] = (df_non_eligible[\"données_non_eligible\"] / df_non_eligible[\"données_total\"]) * 100\n",
    "\n",
    "df_eligible[\"Type\"] = \"Véhicules Admissibles\"\n",
    "df_non_eligible[\"Type\"] = \"Véhicules Non Admissibles\"\n",
    "df_final = pd.concat([df_eligible[[\"année\", \"Pourcentage\", \"Type\"]], df_non_eligible[[\"année\", \"Pourcentage\", \"Type\"]]])\n",
    "df_final = df_final.dropna()  # Supprime les années avec NaN\n",
    "df_final = df_final[df_final[\"année\"].isin(df[\"année\"].unique())]  # Garde seulement les années valides\n",
    "\n",
    "fig_admissibles = px.bar(df_final, x=\"année\", y=\"Pourcentage\", color=\"Type\", barmode=\"stack\",\n",
    "                          labels={\"Pourcentage\": \"Pourcentage de véhicules\", \"année\": \"Année\", \"Type\": \"Catégorie\"},\n",
    "                          title=\"Répartition en pourcentage des véhicules admissibles vs non admissibles sur la voie de covoiturage\")\n",
    "\n",
    "fig_admissibles.update_xaxes(type=\"category\")  # Force Plotly à traiter les années comme des catégories discrètes\n",
    "fig_admissibles.show()\n",
    "df_eligible\n",
    "\n"
   ]
  },
  {
   "cell_type": "code",
   "execution_count": null,
   "metadata": {},
   "outputs": [],
   "source": []
  }
 ],
 "metadata": {
  "kernelspec": {
   "display_name": "ada",
   "language": "python",
   "name": "python3"
  },
  "language_info": {
   "codemirror_mode": {
    "name": "ipython",
    "version": 3
   },
   "file_extension": ".py",
   "mimetype": "text/x-python",
   "name": "python",
   "nbconvert_exporter": "python",
   "pygments_lexer": "ipython3",
   "version": "3.9.18"
  }
 },
 "nbformat": 4,
 "nbformat_minor": 2
}
