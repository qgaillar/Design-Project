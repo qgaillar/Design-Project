{
 "cells": [
  {
   "cell_type": "code",
   "execution_count": 80,
   "metadata": {},
   "outputs": [],
   "source": [
    "# Modèle théorique d'estimation des émissions sur le périphérique parisien\n",
    "# Inspiré de la décomposition de Bigo (2020)\n",
    "\n",
    "# --- Imports ---\n",
    "import numpy as np\n",
    "import matplotlib.pyplot as plt\n",
    "from ipywidgets import interact, FloatSlider, IntSlider\n",
    "\n"
   ]
  },
  {
   "cell_type": "code",
   "execution_count": 81,
   "metadata": {},
   "outputs": [],
   "source": [
    "# --- Paramètres par défaut ---\n",
    "def default_params():\n",
    "    return {\n",
    "        \"distance_moyenne_km\": 35,\n",
    "        \"nombre_vehicules\": 100_000,\n",
    "        \"part_voitures_thermiques\": 0.7,\n",
    "        \"part_voitures_diesel\": 0.2,\n",
    "        \"part_voitures_elec\": 0.1,\n",
    "        \"conso_l_100km_essence\": 7.0,\n",
    "        \"conso_l_100km_diesel\": 5.5,\n",
    "        \"conso_kWh_100km_elec\": 17.0,\n",
    "        \"emission_CO2_l_essence\": 2.3,\n",
    "        \"emission_CO2_l_diesel\": 2.6,\n",
    "        \"emission_CO2_kWh\": 0.012,\n",
    "        \"emission_NOx_g_km_essence\": 0.25,\n",
    "        \"emission_NOx_g_km_diesel\": 0.6,\n",
    "        \"emission_NOx_g_km_elec\": 0.01,\n",
    "        \"emission_PM10_g_km_essence\": 0.01,\n",
    "        \"emission_PM10_g_km_diesel\": 0.05,\n",
    "        \"emission_PM10_g_km_elec\": 0.005,\n",
    "        \"taux_remplissage_actuel\": 1.2,\n",
    "        \"taux_remplissage_covoit\": 1.8,\n",
    "        \"part_covoiturage\": 0.2,\n",
    "        \"surconso_congestion_pointe\": 1.1,\n",
    "        \"surconso_congestion_offpointe\": 1.0,\n",
    "        \"duree_jours\": 365,\n",
    "        \"part_temps_pointe\": 0.31\n",
    "    }"
   ]
  },
  {
   "cell_type": "code",
   "execution_count": 82,
   "metadata": {},
   "outputs": [],
   "source": [
    "# --- Fonction d'estimation ---\n",
    "def calcul_emissions(params, vitesse_reduite=False, part_temps=1.0, surconso_congestion=1.0):\n",
    "    d = params[\"distance_moyenne_km\"]\n",
    "    n = params[\"nombre_vehicules\"]\n",
    "    jours = params[\"duree_jours\"]\n",
    "\n",
    "    covoit = params[\"part_covoiturage\"]\n",
    "    r = (1 - covoit) * params[\"taux_remplissage_actuel\"] + covoit * params[\"taux_remplissage_covoit\"]\n",
    "    demande_eq = n * d / r\n",
    "\n",
    "    result = {\"CO2\": 0, \"NOx\": 0, \"PM10\": 0}\n",
    "\n",
    "    for type_v, part, conso, CO2e, NOx, PM in [\n",
    "        (\"essence\", params[\"part_voitures_thermiques\"], params[\"conso_l_100km_essence\"], params[\"emission_CO2_l_essence\"], params[\"emission_NOx_g_km_essence\"], params[\"emission_PM10_g_km_essence\"]),\n",
    "        (\"diesel\", params[\"part_voitures_diesel\"], params[\"conso_l_100km_diesel\"], params[\"emission_CO2_l_diesel\"], params[\"emission_NOx_g_km_diesel\"], params[\"emission_PM10_g_km_diesel\"]),\n",
    "        (\"elec\", params[\"part_voitures_elec\"], params[\"conso_kWh_100km_elec\"], params[\"emission_CO2_kWh\"], params[\"emission_NOx_g_km_elec\"], params[\"emission_PM10_g_km_elec\"])\n",
    "    ]:\n",
    "        km_total = part * demande_eq * part_temps\n",
    "        consommation_totale = km_total * (conso / 100) * surconso_congestion\n",
    "        CO2_total = consommation_totale * CO2e / 1000 * jours\n",
    "        NOx_total = km_total * NOx / 1_000_000 * jours\n",
    "        PM10_total = km_total * PM / 1_000_000 * jours\n",
    "\n",
    "        result[\"CO2\"] += CO2_total\n",
    "        result[\"NOx\"] += NOx_total\n",
    "        result[\"PM10\"] += PM10_total\n",
    "\n",
    "    return result"
   ]
  },
  {
   "cell_type": "code",
   "execution_count": 83,
   "metadata": {},
   "outputs": [],
   "source": [
    "# --- Fusion des périodes pointe / hors-pointe ---\n",
    "def emissions_horaires_combinees(params, vitesse_reduite=False, voie_covoit_activee=False):\n",
    "    part_pointe = params[\"part_temps_pointe\"]\n",
    "    part_off = 1 - part_pointe\n",
    "\n",
    "    surconso_pointe = params[\"surconso_congestion_pointe\"]\n",
    "    if voie_covoit_activee:\n",
    "        surconso_pointe = min(1.05, surconso_pointe - 0.05)  # Réduction de congestion\n",
    "\n",
    "    res_pointe = calcul_emissions(params, vitesse_reduite=vitesse_reduite, part_temps=part_pointe, surconso_congestion=surconso_pointe)\n",
    "    res_off = calcul_emissions(params, vitesse_reduite=vitesse_reduite, part_temps=part_off, surconso_congestion=params[\"surconso_congestion_offpointe\"])\n",
    "\n",
    "    total = {k: res_pointe[k] + res_off[k] for k in res_pointe}\n",
    "    return total"
   ]
  },
  {
   "cell_type": "code",
   "execution_count": 84,
   "metadata": {},
   "outputs": [],
   "source": [
    "# --- Affichage des résultats ---\n",
    "def afficher_resultats(params):\n",
    "    scenarios = {\n",
    "        \"A. 70 km/h sans voie covoiturage\": emissions_horaires_combinees(params, vitesse_reduite=False, voie_covoit_activee=False),\n",
    "        \"B. 50 km/h sans voie covoiturage\": emissions_horaires_combinees(params, vitesse_reduite=True, voie_covoit_activee=False),\n",
    "        \"C. 50 km/h avec voie covoiturage\": emissions_horaires_combinees(params, vitesse_reduite=True, voie_covoit_activee=True)\n",
    "    }\n",
    "\n",
    "    for nom, valeurs in scenarios.items():\n",
    "        print(f\"\\n{nom} :\")\n",
    "        for polluant, val in valeurs.items():\n",
    "            print(f\"  {polluant} : {val:.2f} t/an\")\n",
    "\n",
    "    labels = list(scenarios.keys())\n",
    "    CO2_vals = [scenarios[k][\"CO2\"] for k in labels]\n",
    "    NOx_vals = [scenarios[k][\"NOx\"] for k in labels]\n",
    "    PM10_vals = [scenarios[k][\"PM10\"] for k in labels]\n",
    "\n",
    "    x = np.arange(len(labels))\n",
    "    width = 0.25\n",
    "\n",
    "    plt.figure(figsize=(10, 6))\n",
    "    plt.bar(x - width, CO2_vals, width, label=\"CO2\")\n",
    "    plt.bar(x, NOx_vals, width, label=\"NOx\")\n",
    "    plt.bar(x + width, PM10_vals, width, label=\"PM10\")\n",
    "    plt.xticks(x, labels, rotation=15)\n",
    "    plt.ylabel(\"t/an\")\n",
    "    plt.title(\"Émissions annuelles par scénario (voies horaires)\")\n",
    "    plt.legend()\n",
    "    plt.tight_layout()\n",
    "    plt.show()"
   ]
  },
  {
   "cell_type": "code",
   "execution_count": 85,
   "metadata": {},
   "outputs": [
    {
     "data": {
      "application/vnd.jupyter.widget-view+json": {
       "model_id": "98456756c5f04296bb9b66b1dca3e5bc",
       "version_major": 2,
       "version_minor": 0
      },
      "text/plain": [
       "interactive(children=(FloatSlider(value=35.0, description='km/jour', max=50.0, min=10.0, step=1.0), IntSlider(…"
      ]
     },
     "metadata": {},
     "output_type": "display_data"
    }
   ],
   "source": [
    "# --- Interface interactive ---\n",
    "@interact(\n",
    "    distance_moyenne_km=FloatSlider(min=10, max=50, step=1, value=35, description=\"km/jour\"),\n",
    "    nombre_vehicules=IntSlider(min=50000, max=300000, step=10000, value=100000, description=\"véhicules/j\"),\n",
    "    part_covoiturage=FloatSlider(min=0.0, max=0.5, step=0.01, value=0.2, description=\"% covoiturage\"),\n",
    "    surconso_congestion_pointe=FloatSlider(min=1.0, max=1.2, step=0.01, value=1.1, description=\"Surconso pointe\"),\n",
    "    surconso_congestion_offpointe=FloatSlider(min=1.0, max=1.2, step=0.01, value=1.0, description=\"Surconso hors-pointe\")\n",
    ")\n",
    "def simulation_interactive(distance_moyenne_km, nombre_vehicules, part_covoiturage,\n",
    "                           surconso_congestion_pointe, surconso_congestion_offpointe):\n",
    "    params = default_params()\n",
    "    params.update({\n",
    "        \"distance_moyenne_km\": distance_moyenne_km,\n",
    "        \"nombre_vehicules\": nombre_vehicules,\n",
    "        \"part_covoiturage\": part_covoiturage,\n",
    "        \"surconso_congestion_pointe\": surconso_congestion_pointe,\n",
    "        \"surconso_congestion_offpointe\": surconso_congestion_offpointe\n",
    "    })\n",
    "    afficher_resultats(params)"
   ]
  },
  {
   "cell_type": "code",
   "execution_count": null,
   "metadata": {},
   "outputs": [],
   "source": []
  },
  {
   "cell_type": "code",
   "execution_count": null,
   "metadata": {},
   "outputs": [],
   "source": []
  },
  {
   "cell_type": "code",
   "execution_count": null,
   "metadata": {},
   "outputs": [],
   "source": []
  },
  {
   "cell_type": "code",
   "execution_count": null,
   "metadata": {},
   "outputs": [],
   "source": []
  },
  {
   "cell_type": "code",
   "execution_count": null,
   "metadata": {},
   "outputs": [],
   "source": []
  }
 ],
 "metadata": {
  "kernelspec": {
   "display_name": "ada",
   "language": "python",
   "name": "python3"
  },
  "language_info": {
   "codemirror_mode": {
    "name": "ipython",
    "version": 3
   },
   "file_extension": ".py",
   "mimetype": "text/x-python",
   "name": "python",
   "nbconvert_exporter": "python",
   "pygments_lexer": "ipython3",
   "version": "3.9.18"
  }
 },
 "nbformat": 4,
 "nbformat_minor": 2
}
